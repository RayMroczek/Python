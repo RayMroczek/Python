{
 "cells": [
  {
   "cell_type": "markdown",
   "id": "477ea719",
   "metadata": {},
   "source": [
    "## Merging two spreadsheets, reminder"
   ]
  },
  {
   "cell_type": "markdown",
   "id": "925590a4",
   "metadata": {},
   "source": [
    "### Import helpful packages and get your working directory."
   ]
  },
  {
   "cell_type": "code",
   "execution_count": null,
   "id": "3a3d7bda",
   "metadata": {},
   "outputs": [],
   "source": [
    "import pandas as pd\n",
    "import os\n",
    "\n",
    "os.getcwd( )\n"
   ]
  },
  {
   "cell_type": "markdown",
   "id": "41efedc8",
   "metadata": {},
   "source": [
    "### Import data\n",
    "fill in file names."
   ]
  },
  {
   "cell_type": "code",
   "execution_count": null,
   "id": "bd45a933",
   "metadata": {},
   "outputs": [],
   "source": [
    "os.chdir(\"x\") \n",
    "os.getcwd( )\n",
    "\n",
    "\n",
    "#import data\n",
    "full_sample = pd.read_excel('x.xlsx')\n",
    "full_sample.head(5)"
   ]
  },
  {
   "cell_type": "code",
   "execution_count": null,
   "id": "37292200",
   "metadata": {},
   "outputs": [],
   "source": [
    "#import focus group list\n",
    "fg_sample = pd.read_excel('x.xlsx')\n",
    "print(fg_sample.describe())\n",
    "fg_sample.head(5)"
   ]
  },
  {
   "cell_type": "markdown",
   "id": "5eab1a99",
   "metadata": {},
   "source": [
    "### Remove duplicates, by email"
   ]
  },
  {
   "cell_type": "code",
   "execution_count": null,
   "id": "20d2cb69",
   "metadata": {},
   "outputs": [],
   "source": [
    "#deduplicate both lists first.\n",
    "print(full_sample['Email'].nunique())\n",
    "print(fg_sample['Email'].nunique())\n",
    "\n",
    "#the full sample needs to be deduped; the fg sample already was.\n",
    "full_sample = full_sample.drop_duplicates(subset='Email')\n",
    "print(full_sample['Email'].count())\n"
   ]
  },
  {
   "cell_type": "markdown",
   "id": "b9ba2856",
   "metadata": {},
   "source": [
    "### Merge the two files, in order to get a flag of who was in the focus group sample.\n",
    "Good reminder/tutorial: https://realpython.com/pandas-merge-join-and-concat/\n",
    "and how to merge in just one column: https://stackoverflow.com/questions/17978133/python-pandas-merge-only-certain-columns"
   ]
  },
  {
   "cell_type": "code",
   "execution_count": null,
   "id": "6f1992a9",
   "metadata": {},
   "outputs": [],
   "source": [
    "#merge into a new data frame.\n",
    "merged_sample = pd.merge(\n",
    "   full_sample, fg_sample[['Email', 'random']], how=\"left\", on = ['Email'])\n",
    "merged_sample.describe().transpose()"
   ]
  },
  {
   "cell_type": "markdown",
   "id": "3d76de51",
   "metadata": {},
   "source": [
    "### Remove cases that were in the focus group, by using the \"random\" column as a flag"
   ]
  },
  {
   "cell_type": "code",
   "execution_count": null,
   "id": "3c376882",
   "metadata": {},
   "outputs": [],
   "source": [
    "#remove rows that have a value in the random column\n",
    "Final_Sample = merged_sample[merged_sample['random'].isna()]\n",
    "#remove the random column:\n",
    "Final_Sample = Final_Sample.drop(columns=['random'])\n",
    "#check that you have the expected number of records, all with unique emails:\n",
    "Final_Sample.describe(include='all').transpose()"
   ]
  },
  {
   "cell_type": "markdown",
   "id": "22914544",
   "metadata": {},
   "source": [
    "### Export your final sample as an excel file\n",
    "It will export to your set directory location."
   ]
  },
  {
   "cell_type": "code",
   "execution_count": null,
   "id": "0bbe03e7",
   "metadata": {},
   "outputs": [],
   "source": [
    "Final_Sample.to_excel(r'xx.xlsx', index=False)"
   ]
  },
  {
   "cell_type": "code",
   "execution_count": null,
   "id": "30ebb6cf",
   "metadata": {},
   "outputs": [],
   "source": []
  }
 ],
 "metadata": {
  "kernelspec": {
   "display_name": "Python 3 (ipykernel)",
   "language": "python",
   "name": "python3"
  },
  "language_info": {
   "codemirror_mode": {
    "name": "ipython",
    "version": 3
   },
   "file_extension": ".py",
   "mimetype": "text/x-python",
   "name": "python",
   "nbconvert_exporter": "python",
   "pygments_lexer": "ipython3",
   "version": "3.8.15"
  }
 },
 "nbformat": 4,
 "nbformat_minor": 5
}
