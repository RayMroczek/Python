{
 "cells": [
  {
   "cell_type": "code",
   "execution_count": 55,
   "id": "behind-finish",
   "metadata": {},
   "outputs": [],
   "source": [
    "from pypdf import PdfReader\n",
    "import os\n",
    "import pandas"
   ]
  },
  {
   "cell_type": "code",
   "execution_count": 56,
   "id": "public-language",
   "metadata": {},
   "outputs": [
    {
     "data": {
      "text/plain": [
       "'C:\\\\Users\\\\mrocz\\\\OneDrive\\\\Documents\\\\Chai'"
      ]
     },
     "execution_count": 56,
     "metadata": {},
     "output_type": "execute_result"
    }
   ],
   "source": [
    "#find and then set directory and file you're working on.\n",
    "\n",
    "os.getcwd()\n",
    "\n",
    "os.chdir(\"/Users/mrocz/OneDrive/Documents/Chai\")\n",
    "filename = \"6Live_By_Your_Valuespages13-200721-151213.pdf\"\n",
    "\n",
    "os.getcwd()"
   ]
  },
  {
   "cell_type": "code",
   "execution_count": 57,
   "id": "reverse-premiere",
   "metadata": {},
   "outputs": [],
   "source": [
    "#creating a pypdf reader object:\n",
    "reader = PdfReader(\"taking stock week 1.pdf\")\n",
    "#extracting number of pages within this document, type int:\n",
    "number_of_pages = len(reader.pages)\n",
    "#retrieving first page in pypdf page object:\n",
    "page = reader.pages[0]\n",
    "#extracting text, type string:\n",
    "text = page.extract_text()"
   ]
  },
  {
   "cell_type": "code",
   "execution_count": 58,
   "id": "imperial-salon",
   "metadata": {},
   "outputs": [],
   "source": [
    "#create string of contents of all pages, with separator PAGE$#$ which you could use as a delimiter.\n",
    "reader = PdfReader(filename)\n",
    "text = \"Extracting Text\"\n",
    "for pagex in range (0,len(reader.pages)):\n",
    "    page = reader.pages[pagex]\n",
    "    text += \"\\n PAGE$\" + f\"{pagex}$\\n\"\n",
    "    text += page.extract_text()"
   ]
  },
  {
   "cell_type": "code",
   "execution_count": 59,
   "id": "flexible-begin",
   "metadata": {},
   "outputs": [],
   "source": [
    "text_file = open(\"sample.txt\", \"w\")\n",
    "n = text_file.write(text)\n",
    "text_file.close()"
   ]
  },
  {
   "cell_type": "code",
   "execution_count": null,
   "id": "imposed-surface",
   "metadata": {},
   "outputs": [],
   "source": []
  }
 ],
 "metadata": {
  "kernelspec": {
   "display_name": "Python [conda env:RaysEnv]",
   "language": "python",
   "name": "conda-env-RaysEnv-py"
  },
  "language_info": {
   "codemirror_mode": {
    "name": "ipython",
    "version": 3
   },
   "file_extension": ".py",
   "mimetype": "text/x-python",
   "name": "python",
   "nbconvert_exporter": "python",
   "pygments_lexer": "ipython3",
   "version": "3.8.15"
  }
 },
 "nbformat": 4,
 "nbformat_minor": 5
}
