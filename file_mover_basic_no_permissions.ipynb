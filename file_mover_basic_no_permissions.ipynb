{
 "cells": [
  {
   "cell_type": "markdown",
   "id": "3c9cb527",
   "metadata": {},
   "source": [
    "## Moving files to destination (if not already there)"
   ]
  },
  {
   "cell_type": "markdown",
   "id": "da7684b6",
   "metadata": {},
   "source": [
    "### Import packages"
   ]
  },
  {
   "cell_type": "code",
   "execution_count": 38,
   "id": "868f5bb0",
   "metadata": {},
   "outputs": [],
   "source": [
    "import os\n",
    "import shutil"
   ]
  },
  {
   "cell_type": "markdown",
   "id": "2383686f",
   "metadata": {},
   "source": [
    "### Define your source and destination folder (windows)"
   ]
  },
  {
   "cell_type": "code",
   "execution_count": 39,
   "id": "0e21e14f",
   "metadata": {},
   "outputs": [],
   "source": [
    "src_folder = '/Users/mrocz/OneDrive/Desktop/test1/'\n",
    "dst_folder = '/Users/mrocz/OneDrive/Desktop/test2/'   "
   ]
  },
  {
   "cell_type": "markdown",
   "id": "2a253fc9",
   "metadata": {},
   "source": [
    "### Create and run the function that looks for files and then moves them one by one to destination if not already there."
   ]
  },
  {
   "cell_type": "code",
   "execution_count": 40,
   "id": "77207fee",
   "metadata": {},
   "outputs": [
    {
     "name": "stdout",
     "output_type": "stream",
     "text": [
      "no files of any kind found\n"
     ]
    }
   ],
   "source": [
    "def csv_and_excel_mover():\n",
    "    # Get a list of all files in the source folder\n",
    "    files = os.listdir(src_folder)\n",
    "    #if there are no files in the source folder, don't do anything\n",
    "    if len(files) == 0:\n",
    "        print(\"no files of any kind found\")\n",
    "    else:\n",
    "        # Loop through the source folder to see if it's in the destination folder.\n",
    "        for file in files:\n",
    "            if (file.endswith('.csv') or file.endswith('.xls')) and not os.path.exists(os.path.join(dst_folder, file)):\n",
    "                shutil.move(os.path.join(src_folder, file), dst_folder)\n",
    "                print(f\"{file} has been moved to {dst_folder}\")\n",
    "            else:\n",
    "                print(\"No files moved\")\n",
    "csv_and_excel_mover()"
   ]
  }
 ],
 "metadata": {
  "kernelspec": {
   "display_name": "Python 3 (ipykernel)",
   "language": "python",
   "name": "python3"
  },
  "language_info": {
   "codemirror_mode": {
    "name": "ipython",
    "version": 3
   },
   "file_extension": ".py",
   "mimetype": "text/x-python",
   "name": "python",
   "nbconvert_exporter": "python",
   "pygments_lexer": "ipython3",
   "version": "3.8.15"
  }
 },
 "nbformat": 4,
 "nbformat_minor": 5
}
