{
 "cells": [
  {
   "cell_type": "markdown",
   "id": "6d29f3f5",
   "metadata": {},
   "source": [
    "### Resources for Debugging / understanding Code\n",
    "\n",
    "you can use pythontutor.com\n",
    "or download Thonny.\n"
   ]
  },
  {
   "cell_type": "markdown",
   "id": "dress-percentage",
   "metadata": {},
   "source": [
    "### Markdown notes\n",
    "\n",
    "1. **New lines**\\\n",
    "To start a new line, you'd use a backslash at the end of the first line, hit enter, and start your next line:\\\n",
    "first line\\\n",
    "second line.\n",
    "\n",
    "2. **Headers**\\\n",
    "To use headers, you can use #, ##, or ### for different levels.\n",
    "\n",
    "3. **Lists**\\\n",
    "you can see here that we've got a numbered list going. You just type 1. and 2. and so on to get that.\n",
    "an unordered list uses slashes like this - :\n",
    "- potato\n",
    "- tomato\n",
    "- pomato\n",
    "\n",
    "4. **Bolding and Italics**\\\n",
    "Use single and double asterisks at the front and end of the section you'd like to *italisize* (single) or **bold** (double). \n",
    "\n",
    "5. **Adding new cells**\\\n",
    "Use ESC + a or ESC + b to add a new cell above (a) or below (b) your current one.\n",
    "\n",
    "6. **Changing cell type**\\\n",
    "Use ESC + m to change it to a markdown cell, or ESC + y for code.\n",
    "\n",
    "7. **Running a cell**\\\n",
    "hit CTRL + enter.\n",
    "\n",
    "[More markdown notes, https://www.markdownguide.org/basic-syntax/](https://www.markdownguide.org/basic-syntax/)"
   ]
  },
  {
   "cell_type": "markdown",
   "id": "delayed-silly",
   "metadata": {},
   "source": [
    "### Variable Types - what kind of data can be stored in an object or variable? \n",
    "1. Numeric: for integers, floats, and complex numbers\n",
    "Integers are for numbers of non-limited length.</n>\n",
    "Floats can hold up to 15 decimal places accurately.</n>\n",
    "boolean\n",
    "\n",
    "2. Strings - anything else\n",
    "\n",
    "### How to check and change variable types"
   ]
  },
  {
   "cell_type": "code",
   "execution_count": 1,
   "id": "active-karen",
   "metadata": {},
   "outputs": [
    {
     "name": "stdout",
     "output_type": "stream",
     "text": [
      "<class 'str'>\n",
      "<class 'float'>\n",
      "<class 'int'>\n",
      "<class 'float'>\n",
      "<class 'str'>\n",
      "2.0\n",
      "3.0\n",
      "3.00\n",
      "3001\n"
     ]
    }
   ],
   "source": [
    "#creating objects of a certain type:\n",
    "a=\"potato\"\n",
    "b=1.2\n",
    "c=str(123)\n",
    "d=float(1.1)\n",
    "e=int(1.5)\n",
    "\n",
    "#check object type:\n",
    "print(type(a))\n",
    "print(type(b))\n",
    "\n",
    "#change object type.\n",
    "b=int(b)\n",
    "print(type(b))\n",
    "b=float(b)\n",
    "print(type(b))\n",
    "b=str(b)\n",
    "print(type(b))\n",
    "\n",
    "#sometimes when you do certain things to an object, it transforms its type.\n",
    "#for example, division of two integers will result in a float:\n",
    "print(6/3)\n",
    "\n",
    "#floats will only display one decimal if there are no values after the decimal (e.g., 3.0). Show what you'd like:\n",
    "e=3.0\n",
    "print(e)\n",
    "e = \"{:.2f}\".format(e)\n",
    "print(e)\n",
    "\n",
    "#large numbers don't use commas as separators - you can use an underscore:\n",
    "f=3_001\n",
    "print(f)\n"
   ]
  },
  {
   "cell_type": "code",
   "execution_count": 87,
   "id": "cf986f76",
   "metadata": {},
   "outputs": [
    {
     "name": "stdout",
     "output_type": "stream",
     "text": [
      "<class 'bool'>\n",
      "this boolean is set to true\n",
      "this boolean is set to false\n"
     ]
    }
   ],
   "source": [
    "#booleans are interesting... \n",
    "\n",
    "is_true = True\n",
    "\n",
    "print(type(is_true))\n",
    "\n",
    "#the default of a boolean that it is evaluated against is true.\n",
    "if is_true:\n",
    "    print(\"this boolean is set to true\")\n",
    "else:\n",
    "    print(\"this boolean is set to false\")\n",
    "    \n",
    "is_true = False\n",
    "if is_true:\n",
    "    print(\"this boolean is set to true\")\n",
    "else:\n",
    "    print(\"this boolean is set to false\")\n"
   ]
  },
  {
   "cell_type": "markdown",
   "id": "published-guess",
   "metadata": {},
   "source": [
    "### Order of operations\n",
    "The order of operations is the same as ever (PEMDAS, or within parentheses, then exponents, then multiplication and division, then addition and subtraction). Within each category, Python operates from left to right. (no associated code snippets)"
   ]
  },
  {
   "cell_type": "markdown",
   "id": "exact-upgrade",
   "metadata": {},
   "source": [
    "### Common Symbols and more\n",
    "Here are the typical symbols used for multiplication, division, etc:"
   ]
  },
  {
   "cell_type": "code",
   "execution_count": 1,
   "id": "fuzzy-gauge",
   "metadata": {},
   "outputs": [
    {
     "name": "stdout",
     "output_type": "stream",
     "text": [
      "3.0\n",
      "12\n",
      "0\n",
      "3\n",
      "4\n",
      "5.2\n",
      "3\n",
      "1.5\n",
      "False\n",
      "True\n",
      "False\n",
      "check\n"
     ]
    }
   ],
   "source": [
    "#division:\n",
    "print(6/2)\n",
    "#multiplication:\n",
    "print(6*2)\n",
    "#retrieving the remainder after division:\n",
    "print(6%2)\n",
    "#floor division (result is integer, rather than float type):\n",
    "print(6//2)\n",
    "#raising something to a power:\n",
    "print(2**2)\n",
    "#rounding, here to 1 decimal place:\n",
    "print(round((5.22),1))\n",
    "#shorthand for adding something to an existing number:\n",
    "number = 2\n",
    "number +=1\n",
    "print(number)\n",
    "#this works for division, too:\n",
    "number /=2\n",
    "print(number)\n",
    "#checking if statement is true, which will output True and False (has to be capitalized):\n",
    "a = 2\n",
    "b = 3\n",
    "print(a==b)\n",
    "print(a<=b)\n",
    "print(a>=b)\n",
    "#setting values (regular equal sign):\n",
    "a = 2\n",
    "#is not equal to:\n",
    "if 3 !=2:\n",
    "    print(\"check\")"
   ]
  },
  {
   "cell_type": "markdown",
   "id": "strong-consortium",
   "metadata": {},
   "source": [
    "### Changing strings to lower or upper case, adding strings together\n",
    "Strings can be added together pretty easily:"
   ]
  },
  {
   "cell_type": "code",
   "execution_count": 77,
   "id": "humanitarian-conjunction",
   "metadata": {},
   "outputs": [
    {
     "name": "stdout",
     "output_type": "stream",
     "text": [
      "Potatoes are tasty\n",
      "POTATOES ARE TASTY\n",
      "potatoes are tasty\n",
      "potatoes are tastypickles are salty\n",
      "potatoes are tasty and pickles are salty\n",
      "Rufus Aurelius\n"
     ]
    }
   ],
   "source": [
    "potato = \"PotatoeS ARE Tasty\"\n",
    "#capitalize capitalizes first letter and makes everything else lower case:\n",
    "potato = potato.capitalize()\n",
    "print(potato)\n",
    "#all upper and lower case:\n",
    "potato = potato.upper()\n",
    "print(potato)\n",
    "potato = potato.lower()\n",
    "print(potato)\n",
    "\n",
    "\n",
    "#adding strings together:\n",
    "pickles = \"pickles are salty\"\n",
    "#no space:\n",
    "potatoes_and_pickles = potato + pickles\n",
    "print(potatoes_and_pickles)\n",
    "#adding in a space + and:\n",
    "potatoes_and_pickles = potato + \" and \" + pickles\n",
    "print(potatoes_and_pickles)\n",
    "\n",
    "\n",
    "#super helpful! title case:\n",
    "name = \"rufus auRelius\"\n",
    "name = name.title()\n",
    "print(name)"
   ]
  },
  {
   "cell_type": "markdown",
   "id": "average-avatar",
   "metadata": {},
   "source": [
    "### What are lists?\n",
    "A list is a group of information stored together, in a specific order. They have lots of applications, that I'm still learning... but for now this is how you create a blank list:"
   ]
  },
  {
   "cell_type": "code",
   "execution_count": 4,
   "id": "demographic-version",
   "metadata": {},
   "outputs": [
    {
     "name": "stdout",
     "output_type": "stream",
     "text": [
      "['potato', 'tomato', 1]\n"
     ]
    }
   ],
   "source": [
    "#this is how you create a blank list:\n",
    "blank_list = []\n",
    "\n",
    "#this is how you create a list with values:\n",
    "filled_list = [\"potato\", \"tomato\", 1]\n",
    "print(filled_list)"
   ]
  },
  {
   "cell_type": "markdown",
   "id": "swiss-colors",
   "metadata": {},
   "source": [
    "### Retrieving a specific character in a string or element in a list, based on position: \n",
    "both strings and list start at point 0, not at point 1. This \"point\" is the index in a list. so an index of 0 will return the first thing in a list, index of 1 the second thing, and so on.\\\n",
    "There are shortcuts for retrieving the last item in the list too."
   ]
  },
  {
   "cell_type": "code",
   "execution_count": 5,
   "id": "eligible-kitty",
   "metadata": {},
   "outputs": [
    {
     "name": "stdout",
     "output_type": "stream",
     "text": [
      "H\n",
      "e\n",
      "o\n",
      "potato\n",
      "squash\n"
     ]
    }
   ],
   "source": [
    "#Return a character of a string:\n",
    "print(\"Hello\"[0])\n",
    "print(\"Hello\"[1])\n",
    "#retrieve the last character of a string:\n",
    "print(\"Hello\"[-1])\n",
    "\n",
    "#Return a specific element in a list based on position:\n",
    "list1 = [\"potato\", \"tomato\", \"squash\"]\n",
    "print(list1[0])\n",
    "#retrieve last item in list:\n",
    "print(list1[-1])"
   ]
  },
  {
   "cell_type": "markdown",
   "id": "worthy-compound",
   "metadata": {},
   "source": [
    "### Altering an item in a list, based on its position:\n",
    "You can assign a new character or item by referencing its position. This method doesn't work for just a character within a string."
   ]
  },
  {
   "cell_type": "code",
   "execution_count": 6,
   "id": "equipped-price",
   "metadata": {},
   "outputs": [
    {
     "name": "stdout",
     "output_type": "stream",
     "text": [
      "['potato', 'squash']\n",
      "['potato', 'tomato']\n"
     ]
    }
   ],
   "source": [
    "list2 = [\"potato\", \"squash\"]\n",
    "print(list2)\n",
    "\n",
    "#changing the 2nd item, or item in index 1, to tomato.\n",
    "list2[1]=\"tomato\"\n",
    "print(list2)"
   ]
  },
  {
   "cell_type": "markdown",
   "id": "under-singapore",
   "metadata": {},
   "source": [
    "### Altering items on a list - adding to the list\n",
    "You can use \"extend\" to extend a list. Uses parentheses and then brackets.<br>\n",
    "you can also use append, although it might be being phased out."
   ]
  },
  {
   "cell_type": "code",
   "execution_count": 4,
   "id": "social-number",
   "metadata": {},
   "outputs": [
    {
     "name": "stdout",
     "output_type": "stream",
     "text": [
      "['potato', 'squash']\n",
      "['potato', 'squash', 'tomato', 'pickles']\n",
      "['potato', 'squash', 'tomato', 'pickles', 'carrots']\n"
     ]
    }
   ],
   "source": [
    "list2 = [\"potato\", \"squash\"]\n",
    "print(list2)\n",
    "list2.extend([\"tomato\",\"pickles\"])\n",
    "print(list2)\n",
    "\n",
    "list2.append(\"carrots\")\n",
    "print(list2)"
   ]
  },
  {
   "cell_type": "markdown",
   "id": "7a95e408",
   "metadata": {},
   "source": [
    "### Another way of appending info to lists, and Strings might be a better thing to use than lists in some cases\n",
    "You can append items to a string similarly to a list. In this way you can store items in a string that you might need."
   ]
  },
  {
   "cell_type": "code",
   "execution_count": 102,
   "id": "94038903",
   "metadata": {},
   "outputs": [
    {
     "name": "stdout",
     "output_type": "stream",
     "text": [
      "p\n",
      "po\n",
      "['p']\n",
      "['p', 'o']\n",
      "po\n"
     ]
    }
   ],
   "source": [
    "cipher_text = \"\"\n",
    "\n",
    "cipher_text += \"p\"\n",
    "print(cipher_text)\n",
    "cipher_text += \"o\"\n",
    "print(cipher_text)\n",
    "\n",
    "#this might be better than storing it in a list, so you don't have to convert it at the end when you want to print without gaps. \n",
    "cipher_text = []\n",
    "#+= is shorthand for extending a list\n",
    "cipher_text += \"p\"\n",
    "print(cipher_text)\n",
    "cipher_text += \"o\"\n",
    "print(cipher_text)\n",
    "print(''.join(cipher_text))\n"
   ]
  },
  {
   "cell_type": "markdown",
   "id": "varying-intellectual",
   "metadata": {},
   "source": [
    "### Turning a string into a list, based on some separator\n",
    "This could be useful if you wanted to request information separated by a comma, and split it up into separate fields. May have other applications - maybe splitting a variable into two columns?"
   ]
  },
  {
   "cell_type": "code",
   "execution_count": 20,
   "id": "continuing-fetish",
   "metadata": {},
   "outputs": [
    {
     "name": "stdout",
     "output_type": "stream",
     "text": [
      "potato, tomato, pickles\n",
      "['potato', 'tomato', 'pickles']\n"
     ]
    }
   ],
   "source": [
    "names = \"potato, tomato, pickles\"\n",
    "print(names)\n",
    "names_list = names.split(\", \")\n",
    "print(names_list)"
   ]
  },
  {
   "cell_type": "markdown",
   "id": "detailed-spain",
   "metadata": {},
   "source": [
    "### combining lists!\n",
    "You can create a list of lists! then the positions reference each list. You can stack positions by first 1) identifying the list you'd like to retrieve by position, and then 2) the item within the list by position."
   ]
  },
  {
   "cell_type": "code",
   "execution_count": 24,
   "id": "nuclear-entrance",
   "metadata": {},
   "outputs": [
    {
     "name": "stdout",
     "output_type": "stream",
     "text": [
      "['potato', 'squash']\n",
      "['tomato', 'pickle']\n",
      "[['potato', 'squash'], ['tomato', 'pickle']]\n",
      "['potato', 'squash']\n",
      "potato\n"
     ]
    }
   ],
   "source": [
    "list1 = [\"potato\", \"squash\"]\n",
    "list2 = [\"tomato\", \"pickle\"]\n",
    "print(list1)\n",
    "print(list2)\n",
    "combined_list = [list1, list2]\n",
    "print(combined_list)\n",
    "#retrieve first list in combined list:\n",
    "print(combined_list[0])\n",
    "#retrieve the first item of the first list in the combined list...\n",
    "print(combined_list[0][0])"
   ]
  },
  {
   "cell_type": "markdown",
   "id": "caa1b038",
   "metadata": {},
   "source": [
    "### printing a list without its brackets and dividers"
   ]
  },
  {
   "cell_type": "code",
   "execution_count": 5,
   "id": "498ac934",
   "metadata": {},
   "outputs": [
    {
     "name": "stdout",
     "output_type": "stream",
     "text": [
      "H e l l o\n"
     ]
    }
   ],
   "source": [
    "display = [\"H\", \"e\", \"l\", \"l\", \"o\"]\n",
    "print(f\"{' '.join(display)}\")"
   ]
  },
  {
   "cell_type": "markdown",
   "id": "residential-concentrate",
   "metadata": {},
   "source": [
    "### counting the number of a specific substring within a string\n",
    "Let's say you wanted to know how many S's are in a string."
   ]
  },
  {
   "cell_type": "code",
   "execution_count": 7,
   "id": "planned-jackson",
   "metadata": {},
   "outputs": [
    {
     "name": "stdout",
     "output_type": "stream",
     "text": [
      "2\n"
     ]
    }
   ],
   "source": [
    "words = \"lots of potatotoes\"\n",
    "s_count = words.count(\"s\")\n",
    "print(s_count)"
   ]
  },
  {
   "cell_type": "markdown",
   "id": "lesser-wallpaper",
   "metadata": {},
   "source": [
    "### F strings\n",
    "You can use F strings to pull in objects into a printed statement. It has two parts - starting the string with *f* before quotes, and then enclosing the object in curly brackets. For example:"
   ]
  },
  {
   "cell_type": "code",
   "execution_count": 8,
   "id": "cardiac-server",
   "metadata": {},
   "outputs": [
    {
     "name": "stdout",
     "output_type": "stream",
     "text": [
      "your number is 6\n"
     ]
    }
   ],
   "source": [
    "number=6\n",
    "print(f\"your number is {number}\")"
   ]
  },
  {
   "cell_type": "markdown",
   "id": "excess-architecture",
   "metadata": {},
   "source": [
    "### IF statements\n",
    "If statements are a way to do some action, if a condition is true.\\\n",
    "Typically, you have an IF statement and then if that's not true, an ELSE statement, or what to do if the condition isn't true. \\\n",
    "Indentations matter in Python. The IF statement should be on the same line as the ELSE statement, and the actions should be indented/3-spaces-out."
   ]
  },
  {
   "cell_type": "code",
   "execution_count": 10,
   "id": "drawn-humor",
   "metadata": {},
   "outputs": [
    {
     "name": "stdout",
     "output_type": "stream",
     "text": [
      "uh oh.\n"
     ]
    }
   ],
   "source": [
    "#if statements don't *have* to have an accompanying \"else\" statement. \n",
    "#If the condition is met, it will print the statement, and in the if statement isn't met, it just won't do anything if no else is specified:\n",
    "num_potatoes = 4\n",
    "if num_potatoes == 5:\n",
    "    print(\"you have the right number of potatoes!\")\n",
    "\n",
    "#ELSE would be at the same indentation level as the initial IF statement.\n",
    "if num_potatoes == 5:\n",
    "    print(\"you have the right number of potatoes!\")\n",
    "else:\n",
    "    print(\"uh oh.\")"
   ]
  },
  {
   "cell_type": "markdown",
   "id": "banned-neighborhood",
   "metadata": {},
   "source": [
    "### IF combined with AND\n",
    "\n",
    "The conditions you're evaluating can include AND and OR:"
   ]
  },
  {
   "cell_type": "code",
   "execution_count": 13,
   "id": "american-therapy",
   "metadata": {},
   "outputs": [
    {
     "name": "stdout",
     "output_type": "stream",
     "text": [
      "Yay\n"
     ]
    }
   ],
   "source": [
    "num_potatoes = 5\n",
    "num_tomatoes = 2\n",
    "num_pickles = 2\n",
    "\n",
    "if num_potatoes==5 and (num_tomatoes==2 or num_pickles==2):\n",
    "    print(\"Yay\")\n",
    "else:\n",
    "    print(\"Nay\")"
   ]
  },
  {
   "cell_type": "markdown",
   "id": "gross-sensitivity",
   "metadata": {},
   "source": [
    "### Nested IF statements\n",
    "\n",
    "You can nest if statements, to evaluate additional conditions within a condition. Indentation matters again here:"
   ]
  },
  {
   "cell_type": "code",
   "execution_count": 11,
   "id": "humanitarian-mapping",
   "metadata": {},
   "outputs": [
    {
     "name": "stdout",
     "output_type": "stream",
     "text": [
      "you have 4 potatoes and at least two pickles.\n"
     ]
    }
   ],
   "source": [
    "num_potatoes = 4\n",
    "pickles = 2\n",
    "\n",
    "if num_potatoes == 4:\n",
    "    if pickles <2:\n",
    "        print(\"you have 4 potatoes and less than 2 pickles.\")\n",
    "    else:\n",
    "        print(\"you have 4 potatoes and at least two pickles.\")\n",
    "else:\n",
    "    print(\"you do not have four potatoes.\")"
   ]
  },
  {
   "cell_type": "markdown",
   "id": "integrated-september",
   "metadata": {},
   "source": [
    "### Nested IF Statements that request input\n",
    "\n",
    "You can request information within an if statement, after conditions are met. This is an out of place section."
   ]
  },
  {
   "cell_type": "code",
   "execution_count": 15,
   "id": "valued-circumstances",
   "metadata": {},
   "outputs": [
    {
     "name": "stdout",
     "output_type": "stream",
     "text": [
      "You can ride the rollercoaster!\n",
      "What is your age? 5\n",
      "Your ticket price is $7.\n"
     ]
    }
   ],
   "source": [
    "#Here's an example, where age for pricing is only evaluated if height is right:\n",
    "height = 120\n",
    "\n",
    "if height >= 120:\n",
    "     print(\"You can ride the rollercoaster!\")\n",
    "     age = int(input(\"What is your age? \"))\n",
    "     if age <= 18:\n",
    "         print(\"Your ticket price is $7.\")\n",
    "     else:\n",
    "         print(\"Your ticket price is $12.\")\n",
    "else:\n",
    "    print(\"Sorry, you have to grow taller before you can ride.\")   "
   ]
  },
  {
   "cell_type": "markdown",
   "id": "focal-probe",
   "metadata": {},
   "source": [
    "### ELIF statements\n",
    "\n",
    "ELIF statements evaluate aditional conditions in a less resource-intensive way.\\\n",
    "You can evaluate multiple conditions using multiple if statements, rather than elif statements, but then the computer will evaluate all of them, one by one, even if the first condition is met. Example below:"
   ]
  },
  {
   "cell_type": "code",
   "execution_count": 12,
   "id": "suburban-citizenship",
   "metadata": {},
   "outputs": [
    {
     "name": "stdout",
     "output_type": "stream",
     "text": [
      "you have four or more potatoes and two or more pickles.\n",
      "you have four or more potatoes and two or more pickles.\n",
      "checked condition 2\n",
      "checked condition 3\n"
     ]
    }
   ],
   "source": [
    "num_potatoes = 4\n",
    "num_pickles = 2\n",
    "\n",
    "#this would only evaluate the first if statement and not go on to the others since it was true.\n",
    "if num_potatoes >= 4 and num_pickles >=2:\n",
    "    print(\"you have four or more potatoes and two or more pickles.\")\n",
    "elif num_potatoes < 4 and num_pickles >=2:\n",
    "    print(\"you have less than four potatoes and two or more pickles.\")\n",
    "elif num_potatoes < 4 and num_pickles <2:\n",
    "    print(\"you have less than four potatoes and less than two pickles.\")\n",
    "else: \n",
    "    print(\"you have something strange.\")\n",
    "    \n",
    "#this evaluates all three, which you can see by the added printed condition checks.\n",
    "    \n",
    "if num_potatoes >= 4 and num_pickles >=2:\n",
    "    print(\"you have four or more potatoes and two or more pickles.\")\n",
    "else:\n",
    "    print(\"checked condition 1\")\n",
    "if num_potatoes < 4 and num_pickles >=2:\n",
    "    print(\"you have less than four potatoes and two or more pickles.\")\n",
    "else:\n",
    "    print(\"checked condition 2\")\n",
    "if num_potatoes < 4 and num_pickles <2:\n",
    "    print(\"you have less than four potatoes and less than two pickles.\")\n",
    "else:\n",
    "    print(\"checked condition 3\")"
   ]
  },
  {
   "cell_type": "markdown",
   "id": "fitted-greek",
   "metadata": {},
   "source": [
    "### Randomization\n",
    "You can use the random package to select a value at random, or make a random choice out of a list. Here are some examples:"
   ]
  },
  {
   "cell_type": "code",
   "execution_count": 14,
   "id": "demanding-congress",
   "metadata": {},
   "outputs": [
    {
     "name": "stdout",
     "output_type": "stream",
     "text": [
      "1\n"
     ]
    }
   ],
   "source": [
    "#create a random integer, say for a coin flip example where it chooses a random integer between 0 - heads, and 1 - tails):\n",
    "\n",
    "import random \n",
    "random_coin_flip = random.randint(0,1)\n",
    "print(random_coin_flip)\n",
    "\n"
   ]
  },
  {
   "cell_type": "markdown",
   "id": "smaller-celebrity",
   "metadata": {},
   "source": [
    "# LOOPS! \n",
    "Loops are very very useful! We'll probably spend a lot of time creating loops that fit a specific need. What follows are som examples.\n",
    "\n",
    "the basic structure is:\n",
    "for n in object:\n",
    "   do abc...\n",
    "   \n",
    "What you chose to replace *n* in the above framework doesn't matter, but make it make sense.\n",
    "This *n* can then be referenced within your loop."
   ]
  },
  {
   "cell_type": "code",
   "execution_count": 25,
   "id": "fancy-vaccine",
   "metadata": {},
   "outputs": [
    {
     "name": "stdout",
     "output_type": "stream",
     "text": [
      "Apple\n",
      "Apple Pie\n",
      "Peach\n",
      "Peach Pie\n",
      "Pear\n",
      "Pear Pie\n"
     ]
    }
   ],
   "source": [
    "fruits = [\"Apple\", \"Peach\", \"Pear\"]\n",
    "\n",
    "#retrieve each item of a list in order, and then print it, and then print it with pie appended to it:\n",
    "for fruit in fruits:\n",
    "   print(fruit)\n",
    "   print(fruit + \" Pie\")"
   ]
  },
  {
   "cell_type": "code",
   "execution_count": 29,
   "id": "ambient-stanley",
   "metadata": {},
   "outputs": [
    {
     "name": "stdout",
     "output_type": "stream",
     "text": [
      "4\n"
     ]
    }
   ],
   "source": [
    "vegetable_weights = [1, 2, 5, 0.5]\n",
    "\n",
    "#get the number of items in a list - uses a helper starting point of 0, and then adds 1 to it for each item it loops through in the list.\n",
    "number_of_weights = 0\n",
    "for weight in vegetable_weights:\n",
    "    number_of_weights += 1\n",
    "\n",
    "print(number_of_weights)"
   ]
  },
  {
   "cell_type": "code",
   "execution_count": 31,
   "id": "reduced-borough",
   "metadata": {},
   "outputs": [
    {
     "name": "stdout",
     "output_type": "stream",
     "text": [
      "8.5\n"
     ]
    }
   ],
   "source": [
    "vegetable_weights = [1, 2, 5, 0.5]\n",
    "\n",
    "#summing up the value of items in a list - here to get the sum of weights of all veg:\n",
    "total_weight = 0\n",
    "for weight in vegetable_weights:\n",
    "    total_weight += weight\n",
    "\n",
    "print(total_weight)"
   ]
  },
  {
   "cell_type": "code",
   "execution_count": 32,
   "id": "orange-tobacco",
   "metadata": {},
   "outputs": [
    {
     "name": "stdout",
     "output_type": "stream",
     "text": [
      "5\n"
     ]
    }
   ],
   "source": [
    "vegetable_weights = [1, 2, 5, 0.5]\n",
    "\n",
    "#an if statement within a loop to determine heaviest vegetable:\n",
    "#helper starting point:\n",
    "heaviest_vegetable = 0\n",
    "\n",
    "for weight in vegetable_weights:\n",
    "    if weight >=heaviest_vegetable:\n",
    "        heaviest_vegetable=weight\n",
    "    else:\n",
    "        heaviest_vegetable=heaviest_vegetable\n",
    "\n",
    "print(heaviest_vegetable)"
   ]
  },
  {
   "cell_type": "markdown",
   "id": "working-speaker",
   "metadata": {},
   "source": [
    "### Ranges, and ranges within loops\n",
    "Ranges are useful and have a few things to keep in mind.\n",
    "A range is inclusive of the starting point but not the ending point (so range(1,5) would include 1,2,3,4 but not 5)."
   ]
  },
  {
   "cell_type": "code",
   "execution_count": 42,
   "id": "illegal-clock",
   "metadata": {},
   "outputs": [
    {
     "name": "stdout",
     "output_type": "stream",
     "text": [
      "0\n",
      "1\n",
      "2\n",
      "3\n",
      "4\n",
      "\n",
      "\n",
      "0\n",
      "1\n",
      "2\n",
      "3\n",
      "4\n"
     ]
    }
   ],
   "source": [
    "#creating a loop based on a range:\n",
    "for number in range(0,5):\n",
    "    print(number)\n",
    "\n",
    "#here's a line break within a code section.\n",
    "print(\"\\n\")\n",
    "    \n",
    "#if you don't specify the starting point of a range, it will be 0.    \n",
    "for number in range(5):\n",
    "    print(number)"
   ]
  },
  {
   "cell_type": "code",
   "execution_count": 45,
   "id": "chronic-disney",
   "metadata": {},
   "outputs": [
    {
     "name": "stdout",
     "output_type": "stream",
     "text": [
      "1\n",
      "3\n",
      "5\n",
      "7\n",
      "9\n"
     ]
    }
   ],
   "source": [
    "#you can also create a range, but instead of using each number in the range, count up by some amount:\n",
    "#here its counting every 2nd item in the range from 0 to 10 (excludes end point), starting with 0.\n",
    "for number in range(0,11,2):\n",
    "    print(number)"
   ]
  },
  {
   "cell_type": "markdown",
   "id": "completed-beverage",
   "metadata": {},
   "source": [
    "### Randomization, Random package\n",
    "The Random package will be very useful. You can pick a random integer, choose a random item in a list, or randomly shuffle a list, and I'm sure more."
   ]
  },
  {
   "cell_type": "code",
   "execution_count": 55,
   "id": "surrounded-programming",
   "metadata": {},
   "outputs": [
    {
     "name": "stdout",
     "output_type": "stream",
     "text": [
      "2\n",
      "['dog', 'cat', 'parakeet', 'fish']\n",
      "parakeet\n",
      "['dog', 'cat', 'fish', 'parakeet']\n"
     ]
    }
   ],
   "source": [
    "import random\n",
    "\n",
    "#picks a random integer between 0 and 2, inclusive of both 0 and 2.\n",
    "print(random.randint(0,2))\n",
    "\n",
    "\n",
    "list1 = [\"dog\",\"cat\",\"parakeet\",\"fish\"]\n",
    "print(list1)\n",
    "#this will pull one of the items of the list out at random:\n",
    "print(random.choice(list1))\n",
    "#this permanently shuffles the list order:\n",
    "random.shuffle(list1)\n",
    "print(list1)"
   ]
  },
  {
   "cell_type": "markdown",
   "id": "average-signal",
   "metadata": {},
   "source": [
    "### Defining Functions\n",
    "Functions are a way to simplify your code- you create a function with a bunch of code and then can reference it simply. Lots more to learn here!"
   ]
  },
  {
   "cell_type": "code",
   "execution_count": 62,
   "id": "apart-savage",
   "metadata": {},
   "outputs": [
    {
     "name": "stdout",
     "output_type": "stream",
     "text": [
      "cat\n"
     ]
    }
   ],
   "source": [
    "list1 = [\"dog\",\"cat\",\"parakeet\",\"fish\"]\n",
    "\n",
    "#this function will shuffle list1 and then pick a random item in the list:\n",
    "def shuffle_and_pick():\n",
    "    random.shuffle(list1)\n",
    "    choice=random.choice(list1)\n",
    "    print(choice)\n",
    "\n",
    "shuffle_and_pick()"
   ]
  },
  {
   "cell_type": "markdown",
   "id": "illegal-maximum",
   "metadata": {},
   "source": [
    "### While loops\n",
    "\n",
    "While loops are to do something while something else is true. They're good for checking against a list or counting down, or continuing something until a result is found/ change in situation occurs. Examples so far are to \"move forward\" while nothing is in front of the little robot, or to continue playing a game while the person has lives or hasn't won the game.\n"
   ]
  },
  {
   "cell_type": "code",
   "execution_count": 3,
   "id": "scientific-tampa",
   "metadata": {},
   "outputs": [
    {
     "name": "stdout",
     "output_type": "stream",
     "text": [
      "5\n",
      "4\n",
      "3\n",
      "2\n",
      "1\n",
      "0\n"
     ]
    }
   ],
   "source": [
    "count = 5\n",
    "print(count)\n",
    "#while the count isn't equal to zero, subtract one from the count and print the result.\n",
    "while count != 0:\n",
    "    count -= 1\n",
    "    print(count)\n",
    "    "
   ]
  },
  {
   "cell_type": "markdown",
   "id": "ef3377a0",
   "metadata": {},
   "source": [
    "### Modules\n",
    "Modules are sections of your project that you can break off into another file. It helps keep your code cleaner and may have some other functionality. \n",
    "\n",
    "the syntax to import modules is:<br>\n",
    "import modulename\n",
    "\n",
    "You can also import a class or function from a module, instead of the whole module:<br>\n",
    "from modulename import functionname\n",
    "\n",
    "you can also do this, which will access the object (here a list) within the module:<br>\n",
    "import modulename\n",
    "random.choice(modulename.listname)\n",
    "\n",
    "Finally, if you want to import several things from one module: <br>\n",
    "from modulename import listname1, listname2\n",
    "\n",
    "[Python import notes, https://www.askpython.com/python/python-import-statement](https://www.askpython.com/python/python-import-statement)"
   ]
  },
  {
   "cell_type": "markdown",
   "id": "e242dfaf",
   "metadata": {},
   "source": [
    "### Flags for noting status change (and examples of while loops, for loops, if statements)\n",
    "This is a partially completed hangman's game (doesn't take into account lives). I keep making the outcome of games embedded within a block of syntax; the class has it set separately most of the time (so end_of_game == True or False). This seems extra but helps with the readability of the code."
   ]
  },
  {
   "cell_type": "code",
   "execution_count": 2,
   "id": "4e91fedc",
   "metadata": {},
   "outputs": [
    {
     "name": "stdout",
     "output_type": "stream",
     "text": [
      "Pssst, the solution is aardvark.\n",
      "['_', '_', '_', '_', '_', '_', '_', '_']\n",
      "Guess a letter: a\n",
      "['a', 'a', '_', '_', '_', 'a', '_', '_']\n",
      "Guess a letter: r\n",
      "['a', 'a', 'r', '_', '_', 'a', 'r', '_']\n",
      "Guess a letter: j\n",
      "['a', 'a', 'r', '_', '_', 'a', 'r', '_']\n",
      "Guess a letter: k\n",
      "['a', 'a', 'r', '_', '_', 'a', 'r', 'k']\n",
      "Guess a letter: v\n",
      "['a', 'a', 'r', '_', 'v', 'a', 'r', 'k']\n",
      "Guess a letter: d\n",
      "['a', 'a', 'r', 'd', 'v', 'a', 'r', 'k']\n",
      "You win.\n"
     ]
    }
   ],
   "source": [
    "#hangman's start of game. \n",
    "#strategies that seem to be repeated are to have an end-game object that gets switched on or off depending on conditions.\n",
    "#this is like a flag variable within data cleaning/analysis.\n",
    "\n",
    "import random\n",
    "word_list = [\"aardvark\", \"baboon\", \"camel\"]\n",
    "chosen_word = random.choice(word_list)\n",
    "word_length = len(chosen_word)\n",
    "\n",
    "\n",
    "#Testing code\n",
    "print(f'Pssst, the solution is {chosen_word}.')\n",
    "\n",
    "#Create blanks\n",
    "display = []\n",
    "for _ in range(word_length):\n",
    "    display += \"_\"\n",
    "\n",
    "print(display)\n",
    "\n",
    "\n",
    "end_of_game = False\n",
    "\n",
    "while end_of_game == False:\n",
    "  guess = input(\"Guess a letter: \").lower()\n",
    "  for position in range(word_length):\n",
    "    letter = chosen_word[position]\n",
    "    #print(f\"Current position: {position}\\n Current letter: {letter}\\n Guessed letter: {guess}\")\n",
    "    if letter == guess:\n",
    "        display[position] = letter\n",
    "  print(display)\n",
    "  if \"_\" not in display:\n",
    "    end_of_game = True\n",
    "    print(\"You win.\")"
   ]
  },
  {
   "cell_type": "markdown",
   "id": "6a51daa8",
   "metadata": {},
   "source": [
    "### Using -1 to switch direction, and modulo to start a loop over\n",
    "The code below was to create a cypher that moves a letter over a certain amount. Decode was the opposite of encode, so instead of writing two functions, they're combined into one that takes the direction as a key to multiply or not by -1 (to shift direction).\n",
    "\n",
    "Additionally, the shift amount may go beyond the alphabet length, so it needs to start over. Getting the remainder, after using the modulo, gets you want you need (e.g., a z with a shift of 5 would be (26th place +5) % length of alphabet = remainder of 5. An interesting use of remainders.\n"
   ]
  },
  {
   "cell_type": "code",
   "execution_count": 3,
   "id": "9fbb8103",
   "metadata": {
    "scrolled": true
   },
   "outputs": [
    {
     "name": "stdout",
     "output_type": "stream",
     "text": [
      "Type 'encode' to encrypt, type 'decode' to decrypt:\n",
      "encrypt\n",
      "Type your message:\n",
      "abc\n",
      "Type the shift number:\n",
      "3\n",
      "Your decoded message is xyz.\n",
      "would you like to go again? Type yes or no:\n",
      "yes\n",
      "Type 'encode' to encrypt, type 'decode' to decrypt:\n",
      "encode\n",
      "Type your message:\n",
      "abc\n",
      "Type the shift number:\n",
      "3\n",
      "Your encoded message is def.\n",
      "would you like to go again? Type yes or no:\n",
      "no\n"
     ]
    }
   ],
   "source": [
    "alphabet = [\n",
    "    'a', 'b', 'c', 'd', 'e', 'f', 'g', 'h', 'i', 'j', 'k', 'l', 'm', 'n', 'o',\n",
    "    'p', 'q', 'r', 's', 't', 'u', 'v', 'w', 'x', 'y', 'z'\n",
    "]\n",
    "\n",
    "direction = input(\"Type 'encode' to encrypt, type 'decode' to decrypt:\\n\")\n",
    "text = input(\"Type your message:\\n\").lower()\n",
    "shift = int(input(\"Type the shift number:\\n\"))\n",
    "\n",
    "\n",
    "def ceasar(requested_direction, input_text, shift_amount):\n",
    "    output_text = \"\"\n",
    "    for letter in input_text:\n",
    "        if letter in alphabet:\n",
    "            position = alphabet.index(letter)\n",
    "            new_position = position + shift_amount * (1 if requested_direction == \"encode\" else -1)\n",
    "            new_position %= len(alphabet)\n",
    "            new_letter = alphabet[new_position]\n",
    "            output_text += new_letter\n",
    "        else:\n",
    "            output_text += letter\n",
    "    print(\n",
    "        f'Your {\"encoded\" if requested_direction == \"encode\" else \"decoded\"} message is {output_text}.'\n",
    "    )\n",
    "\n",
    "\n",
    "ceasar(requested_direction=direction, input_text=text, shift_amount=shift)\n",
    "\n",
    "while input(\"would you like to go again? Type yes or no:\\n\") == \"yes\":\n",
    "    direction = input(\"Type 'encode' to encrypt, type 'decode' to decrypt:\\n\")\n",
    "    text = input(\"Type your message:\\n\").lower()\n",
    "    shift = int(input(\"Type the shift number:\\n\"))\n",
    "    ceasar(requested_direction=direction, input_text=text, shift_amount=shift)\n"
   ]
  },
  {
   "cell_type": "markdown",
   "id": "50b6b24e",
   "metadata": {},
   "source": [
    "### Dictionaries\n",
    "The main syntax for a dictionary is {\"Key\": \"Value\"}. The most readable way to create entries is to start the line with the curly brace and then enter which will automatically add an indent, and then each record goes on its own line like below.\n",
    "\n",
    "Also a good thing to do is always end the last entry with a comma, so that you can just go in and easily add another one.\n",
    "\n",
    "it's an obvious issue that the person has to spell the key name correctly in order to retrieve the associated value; I can see this going wrong - multiple entries for the same thing, one updated one not, or just not spelling something correctly. if you go ahead and try and revise an entry but spell the key wrong, it will create a new entry under that mispelled key. \n",
    "\n",
    "I also wonder what are some easier ways to create a dictionary...\n",
    "\n",
    "Keys are value sensitive."
   ]
  },
  {
   "cell_type": "code",
   "execution_count": 28,
   "id": "5d8553b8",
   "metadata": {},
   "outputs": [
    {
     "name": "stdout",
     "output_type": "stream",
     "text": [
      "{'Word': 'Words are useful models.', 'Jump': 'To remove all limbs from the surface of the earth.', 123: 'A key can also be a number'}\n",
      "Words are useful models.\n",
      "A key can also be a number\n",
      "To take something and bend it over itself and return to the original starting point\n",
      "A word is a useful model - never exactly what you mean but always closer.\n",
      "\n",
      "\n",
      "Word\n",
      "A word is a useful model - never exactly what you mean but always closer.\n",
      "\n",
      "\n",
      "Jump\n",
      "To remove all limbs from the surface of the earth.\n",
      "\n",
      "\n",
      "123\n",
      "A key can also be a number\n",
      "\n",
      "\n",
      "Loop\n",
      "To take something and bend it over itself and return to the original starting point\n"
     ]
    }
   ],
   "source": [
    "random_dictionary = {\n",
    "    \"Word\": \"Words are useful models.\",\n",
    "    \"Jump\": \"To remove all limbs from the surface of the earth.\",\n",
    "    123 : \"A key can also be a number\",\n",
    "}\n",
    "\n",
    "print(random_dictionary)\n",
    "\n",
    "#retrieving the value associated with a particular key from the dictionary:\n",
    "print(random_dictionary[\"Word\"])\n",
    "print(random_dictionary[123])\n",
    "\n",
    "#adding a new entry later on:\n",
    "random_dictionary[\"Loop\"]=\"To take something and bend it over itself and return to the original starting point\"\n",
    "\n",
    "print(random_dictionary[\"Loop\"])\n",
    "\n",
    "#create an empty data dictionary:\n",
    "empty_dictionary = {}\n",
    "#if you set the dictionary that exists to two curly brackets will wipe everything.\n",
    "#random_dictionary = {} \n",
    "\n",
    "#editing dictionaries:\n",
    "random_dictionary[\"Word\"]=\"A word is a useful model - never exactly what you mean but always closer.\"\n",
    "print(random_dictionary[\"Word\"])\n",
    "\n",
    "#looping through a dictionary:\n",
    "for key in random_dictionary:\n",
    "    print(\"\\n\")\n",
    "    print(key)\n",
    "    print(random_dictionary[key])"
   ]
  },
  {
   "cell_type": "markdown",
   "id": "93f8423b",
   "metadata": {},
   "source": [
    "### It's easier to read code if you create helper variables than if you reference the original. \n",
    "The first cell below shows me referencing student_grades[key] multiple times. It might be easier to read if I create a \"score\" and then reference that - see second block."
   ]
  },
  {
   "cell_type": "code",
   "execution_count": null,
   "id": "c1705640",
   "metadata": {},
   "outputs": [],
   "source": [
    "I again referenced something multiple times instead of creating a helper variable for clear syntax:\n",
    "\n",
    "student_scores = {\n",
    "  \"Harry\": 81,\n",
    "  \"Ron\": 78,\n",
    "  \"Hermione\": 99, \n",
    "  \"Draco\": 74,\n",
    "  \"Neville\": 62,\n",
    "}\n",
    "# Don't change the code above\n",
    "\n",
    "#TODO-1: Create an empty dictionary called student_grades.\n",
    "student_grades = {}\n",
    "\n",
    "#TODO-2: Write your code below to add the grades to student_grades.\n",
    "for key in student_scores:\n",
    "    if student_scores[key] < 70:\n",
    "        student_grades[key]=\"Fail\"\n",
    "    elif student_scores[key] in range(70,81,1):\n",
    "        student_grades[key]=\"Acceptable\"\n",
    "    elif student_scores[key] in range(81,91):\n",
    "        student_grades[key]=\"Exceeds Expectations\"\n",
    "    else:\n",
    "        student_grades[key]=\"Outstanding\"\n",
    "\n",
    "    \n",
    "\n",
    "# 🚨 Don't change the code below \n",
    "print(student_grades)"
   ]
  },
  {
   "cell_type": "markdown",
   "id": "d88d4db4",
   "metadata": {},
   "source": [
    "### Revisiting ELIF statements"
   ]
  },
  {
   "cell_type": "code",
   "execution_count": 65,
   "id": "91c9e612",
   "metadata": {},
   "outputs": [
    {
     "name": "stdout",
     "output_type": "stream",
     "text": [
      "{'Harry': 81, 'Ron': 78, 'Hermione': 99, 'Draco': 74, 'Neville': 62}\n",
      "{'Harry': 'Exceeds Expectations', 'Ron': 'Acceptable', 'Hermione': 'Outstanding', 'Draco': 'Acceptable', 'Neville': 'Fail'}\n"
     ]
    }
   ],
   "source": [
    "#I again referenced something multiple times instead of creating a helper variable for clear syntax:\n",
    "student_scores = {\n",
    "  \"Harry\": 81,\n",
    "  \"Ron\": 78,\n",
    "  \"Hermione\": 99, \n",
    "  \"Draco\": 74,\n",
    "  \"Neville\": 62,\n",
    "}\n",
    "\n",
    "print(student_scores)\n",
    "student_grades = {}\n",
    "\n",
    "#TODO-2: Write your code below to add the grades to student_grades.\n",
    "#I also noticed that the statement had to be elif instead of if to work. This was because of the else statement; \n",
    "#if the first condition wasn't true it would go to the else statement instead of to the next if statement.\n",
    "#I also changed it from range to a sequential if statement, since the first statement, if evaluated as true, will not move to the second.\n",
    "\n",
    "for student in student_scores:\n",
    "    #getting the value associated with the key (student name):\n",
    "    score=student_scores[student]\n",
    "    if score>90:\n",
    "        #creating an entry in the new list that takes the key and assigns it a new value.\n",
    "        student_grades[student]=\"Outstanding\"\n",
    "    elif score>80:\n",
    "        student_grades[student]=\"Exceeds Expectations\"\n",
    "    elif score>70:\n",
    "        student_grades[student]=\"Acceptable\"\n",
    "    else:\n",
    "        student_grades[student]=\"Fail\"\n",
    "\n",
    "# 🚨 Don't change the code below \n",
    "print(student_grades)"
   ]
  },
  {
   "cell_type": "code",
   "execution_count": 32,
   "id": "95add071",
   "metadata": {},
   "outputs": [
    {
     "name": "stdout",
     "output_type": "stream",
     "text": [
      "{'Potatoes': ['brown', 'white', 'purple']}\n",
      "{'Potatoes': {'Types': ['brown', 'white', 'purple']}}\n",
      "{'Potatoes': {'Colors': ['brown', 'white', 'purple', 'yellow'], 'Sizes': ['small', 'medium', 'large', 'monster']}}\n"
     ]
    }
   ],
   "source": []
  },
  {
   "cell_type": "markdown",
   "id": "84eee39c",
   "metadata": {},
   "source": [
    "### Nested Dictionaries and Lists\n",
    "You can also store many dictionaries within a list.\n",
    "Remember that a dictionary item is accessed by their key, and an item in a list by its position."
   ]
  },
  {
   "cell_type": "code",
   "execution_count": 34,
   "id": "92bcc19f",
   "metadata": {},
   "outputs": [
    {
     "name": "stdout",
     "output_type": "stream",
     "text": [
      "[{'country': 'France', 'cities visited': ['Paris', 'Lyon', 'Bordeaux'], 'times visited': 5}, {'country': 'England', 'cities visited': ['London', 'Arundel', 'Carnforth'], 'times visited': 20}]\n"
     ]
    }
   ],
   "source": [
    "#you can also store many dictionaries within a list.\n",
    "#remember that a dictionary item is accessed by their key, and an item in a list by its position.\n",
    "list = [\n",
    "    {\n",
    "        \"country\": \"France\",\n",
    "        \"cities visited\": [\"Paris\", \"Lyon\",\"Bordeaux\"],\n",
    "        \"times visited\": 5\n",
    "    },\n",
    "    {\n",
    "        \"country\": \"England\",\n",
    "        \"cities visited\": [\"London\",\"Arundel\",\"Carnforth\"],\n",
    "        \"times visited\": 20}\n",
    "]\n",
    "print(list)"
   ]
  },
  {
   "cell_type": "code",
   "execution_count": 38,
   "id": "bd26029e",
   "metadata": {},
   "outputs": [
    {
     "name": "stdout",
     "output_type": "stream",
     "text": [
      "[{'country': 'France', 'visits': 12, 'cities': ['Paris', 'Lille', 'Dijon']}, {'country': 'Germany', 'visits': 5, 'cities': ['Berlin', 'Hamburg', 'Stuttgart']}, {'country': 'Russia', 'visits': 2, 'cities': ['Moscow', 'Saint Petersburg']}]\n",
      "Moscow\n"
     ]
    }
   ],
   "source": [
    "#creating a travel log, which is a list of dictionaries. Some of the values for certain keys (cities) are lists.\n",
    "travel_log = [\n",
    "{\n",
    "  \"country\": \"France\",\n",
    "  \"visits\": 12,\n",
    "  \"cities\": [\"Paris\", \"Lille\", \"Dijon\"]\n",
    "},\n",
    "{\n",
    "  \"country\": \"Germany\",\n",
    "  \"visits\": 5,\n",
    "  \"cities\": [\"Berlin\", \"Hamburg\", \"Stuttgart\"]\n",
    "},\n",
    "]\n",
    "#🚨 Do NOT change the code above\n",
    "\n",
    "#TODO: Write the function that will allow new countries\n",
    "#to be added to the travel_log. 👇\n",
    "def add_new_country(country, number_visits, cities_visited):\n",
    "    #create a new data dictionary and then add the three things to it.\n",
    "    new_country = {}\n",
    "    new_country[\"country\"] = country\n",
    "    new_country[\"visits\"] = number_visits\n",
    "    new_country[\"cities\"] = cities_visited\n",
    "    travel_log.append(new_country)\n",
    "\n",
    "\n",
    "#🚨 Do not change the code below\n",
    "add_new_country(\"Russia\", 2, [\"Moscow\", \"Saint Petersburg\"])\n",
    "print(travel_log)\n",
    "\n",
    "#to access an item within this nested list and dictionaries...Moscow:\n",
    "print(travel_log[2][\"cities\"][0])"
   ]
  },
  {
   "cell_type": "markdown",
   "id": "3ea3cc6d",
   "metadata": {},
   "source": [
    "### Revisiting Functions and helper variables, and working further with dictionaries\n",
    "\n",
    "Something to keep in mind with functions is that you have a helper variable within them, that you'll be referencing and altering for example as you loop through something, it needs to be within the function - rather than outside of it.\n",
    "\n",
    "The  2nd block of code below won't clear the screen because that relies on replit's clear screen function, but you'll get the idea.\n",
    "\n",
    "Also good to remember is that for dictionaries, you can loop through them like so: "
   ]
  },
  {
   "cell_type": "code",
   "execution_count": 66,
   "id": "817f93fe",
   "metadata": {},
   "outputs": [
    {
     "name": "stdout",
     "output_type": "stream",
     "text": [
      "Potato\n"
     ]
    }
   ],
   "source": [
    "dictionary = {}\n",
    "dictionary[\"Name\"]=\"Potato\"\n",
    "\n",
    "for blabla in dictionary:\n",
    " value_of_blabla = dictionary[blabla]\n",
    " print(value_of_blabla)"
   ]
  },
  {
   "cell_type": "code",
   "execution_count": null,
   "id": "8f6791bb",
   "metadata": {},
   "outputs": [],
   "source": [
    "#from replit import clear\n",
    "#HINT: You can call clear() to clear the output in the console.\n",
    "#from art import logo\n",
    "#print(logo)\n",
    "print(\"Welcome to the auction!\")\n",
    "\n",
    "#create an outcome variable\n",
    "auction_over = False\n",
    "\n",
    "#create dictionary to hold bidders and bids.\n",
    "bidding_records = {}\n",
    "\n",
    "#create a function that determines highest bid.\n",
    "\n",
    "def highest_bidder(list_abc):\n",
    "#if you're going to reference something within the function that you'll be altering, it needs to be within the function.\n",
    "#this means the \"highest_bid\" below can't be outside the function. \n",
    "#I made the parameter name random to remind myself that it doesn't matter/ isn't referencing anything except within the function.\n",
    "  highest_bid = 0\n",
    "    winner = \"\"\n",
    "  for record in list_abc:\n",
    "    amount = list_abc[record]\n",
    "    if amount>highest_bid:\n",
    "      highest_bid = amount\n",
    "      winner = record\n",
    "    else:\n",
    "      highest_bid = highest_bid\n",
    "  print(f\"The winning bid was from {record} at ${highest_bid}.\")\n",
    "      \n",
    "#bidding time!\n",
    "while auction_over == False:\n",
    "  name = input(\"What's your name?: \")\n",
    "  bid = int(input(\"What's your bid?: $\"))\n",
    "  bidding_records[name] = bid\n",
    "  next_bet = input(\"Are there any other players? Type 'yes' or 'no': \")\n",
    "  if next_bet == \"yes\":\n",
    "    auction_over = False\n",
    "    #clear()\n",
    "  else:\n",
    "    auction_over = True\n",
    "    highest_bidder(bidding_records)\n"
   ]
  },
  {
   "cell_type": "markdown",
   "id": "de43549f",
   "metadata": {},
   "source": [
    "### Revisiting looping through different kinds of objects\n",
    "\n",
    "You can loop through lists, dictionaries, ranges...I keep getting them mixed up so revisiting here."
   ]
  },
  {
   "cell_type": "code",
   "execution_count": 69,
   "id": "29c864ec",
   "metadata": {},
   "outputs": [
    {
     "name": "stdout",
     "output_type": "stream",
     "text": [
      "potato\n",
      "onion\n",
      "eggplant\n",
      "vegetable\n",
      "fruit\n",
      "potato\n",
      "apple\n",
      "0\n",
      "1\n",
      "2\n",
      "3\n",
      "4\n",
      "5\n"
     ]
    }
   ],
   "source": [
    "list1=[\"potato\",\"onion\",\"eggplant\"]\n",
    "dictionary={\n",
    "    \"vegetable\": \"potato\",\n",
    "    \"fruit\": \"apple\",\n",
    "}\n",
    "\n",
    "for item in list1:\n",
    "    print(item)\n",
    "    #prints each item in list\n",
    "    \n",
    "for record in dictionary:\n",
    "    print(record)\n",
    "    #prints the key\n",
    "    \n",
    "for record in dictionary:\n",
    "    value = dictionary[record]\n",
    "    print(value)\n",
    "    #prints the values\n",
    "    \n",
    "for number in range(0,6):\n",
    "    print(number)\n",
    "    #prints from 0 to 5"
   ]
  },
  {
   "cell_type": "markdown",
   "id": "f3695c70",
   "metadata": {},
   "source": [
    "### Functions with outputs\n",
    "\n",
    "Functions can have outputs, with the key word \"return.\" a function, when called, will then return whatever is on that line.\n",
    "a function will end after a return is reached; it can be within an if statement to evaluate and then return one thing if true or another if false for example.\n"
   ]
  },
  {
   "cell_type": "code",
   "execution_count": 82,
   "id": "f007bfd1",
   "metadata": {},
   "outputs": [],
   "source": [
    "#yes I could have used the title function :) \n",
    "\n",
    "def proper_name():\n",
    "  #getting inputs\n",
    "  f_name = input(\"What is your first name?: \")\n",
    "  l_name = input(\"What is your last name?: \")\n",
    "  #creating helper objects to identify first letters.\n",
    "  f_position = 0\n",
    "  l_position = 0\n",
    "  #creating objects that we'll be storing the revised names in.\n",
    "  proper_first = \"\"\n",
    "  proper_last = \"\"\n",
    "  #fixing first name\n",
    "  for letter in f_name:\n",
    "    f_position += 1\n",
    "    if f_position == 1:\n",
    "      proper_first += letter.upper()\n",
    "    else:\n",
    "      proper_first += letter.lower()\n",
    "  #fixing last name\n",
    "  for letter in l_name:\n",
    "    l_position +=1\n",
    "    if l_position ==1:\n",
    "      proper_last += letter.upper()\n",
    "    else:\n",
    "      proper_last += letter.lower()\n",
    "  fixed_name = proper_first + \" \" + proper_last\n",
    "  return fixed_name\n",
    "#could also do return f\"{first_name} {last_name}\" type of thing. \n",
    "#only one return per function; whichever is read first gets returned.\n",
    "\n",
    "proper_name()"
   ]
  },
  {
   "cell_type": "markdown",
   "id": "c861b385",
   "metadata": {},
   "source": [
    "### Output Function with different return options depending on conditions"
   ]
  },
  {
   "cell_type": "code",
   "execution_count": 93,
   "id": "d7fa15ad",
   "metadata": {},
   "outputs": [
    {
     "name": "stdout",
     "output_type": "stream",
     "text": [
      "Enter a year: 2020\n",
      "Enter a month: 2\n",
      "29\n"
     ]
    }
   ],
   "source": [
    "def is_leap(year):\n",
    "  if year % 4 == 0:\n",
    "    if year % 100 == 0:\n",
    "      if year % 400 == 0:\n",
    "        return True\n",
    "      else:\n",
    "        return False\n",
    "    else:\n",
    "      return True\n",
    "  else:\n",
    "    return False\n",
    "\n",
    "def days_in_month(input_year, input_month):\n",
    "    \"\"\"potato\"\"\"\n",
    "    month_days = [31, 28, 31, 30, 31, 30, 31, 31, 30, 31, 30, 31]  \n",
    "    if input_month>12 or input_year<1:\n",
    "       return \"This is an invalid month.\"\n",
    "    #boolean technically is default to true so if is_leap(input_year) would mean if it is true...\n",
    "    elif is_leap(input_year)==True and input_month==2:\n",
    "        return 29\n",
    "    else:\n",
    "        return month_days[input_month-1]\n",
    "  \n",
    "year = int(input(\"Enter a year: \"))\n",
    "month = int(input(\"Enter a month: \"))\n",
    "days = days_in_month(year, month)\n",
    "print(days)"
   ]
  },
  {
   "cell_type": "markdown",
   "id": "f49e8248",
   "metadata": {},
   "source": [
    "### Functions can be stored in dictionaries! What other possibilities are there..."
   ]
  },
  {
   "cell_type": "code",
   "execution_count": 96,
   "id": "3a79e49e",
   "metadata": {},
   "outputs": [
    {
     "name": "stdout",
     "output_type": "stream",
     "text": [
      "What's the first number?: 2\n",
      "What's the second number?: 3\n",
      "+\n",
      "-\n",
      "*\n",
      "/\n",
      "Pick an operation from the line above: *\n",
      "2 * 3 = 6\n"
     ]
    }
   ],
   "source": [
    "#Calculator\n",
    "\n",
    "#Adding  \n",
    "def add(n1, n2):\n",
    "  return n1+n2\n",
    "\n",
    "#subtracting\n",
    "def subtract(n1, n2):\n",
    "  return n1 - n2\n",
    "\n",
    "#multiplying\n",
    "def multiply(n1, n2):\n",
    "  return n1 * n2\n",
    "\n",
    "#dividing\n",
    "def divide(n1, n2):\n",
    "  return n1/n2\n",
    "\n",
    "#dictionary is going to act as the means to call the functions.\n",
    "operations = {\n",
    "  \"+\": add, \n",
    "  \"-\": subtract, \n",
    "  \"*\": multiply, \n",
    "  \"/\": divide,\n",
    "}\n",
    "\n",
    "#getting inputs\n",
    "num1 = float(input(\"What's the first number?: \"))\n",
    "#give them the operation options and get input:\n",
    "for item in operations:\n",
    "  print(item)\n",
    "\n",
    "#flag for our loop:\n",
    "should_continue = True\n",
    "\n",
    "while should_continue == True:\n",
    "  operation_symbol = input(\"Pick an operation: \")\n",
    "  #pick second number\n",
    "  num2 = float(input(\"What's the next number?: \"))\n",
    "  #choose the function associated with their chosen symbol:\n",
    "  calculation_function = operations[operation_symbol]\n",
    "  answer = calculation_function(num1, num2)\n",
    "  #print result\n",
    "  print(f\"{num1} {operation_symbol} {num2} = {answer}\")\n",
    "  #do they want to keep going?\n",
    "  if input(f\"Type 'y' to continue working with {answer}, or type 'n' to exit: \") == 'y':\n",
    "    #set the first number to be the answer.\n",
    "    num1 = answer\n",
    "  else:\n",
    "    should_continue = False\n"
   ]
  },
  {
   "cell_type": "markdown",
   "id": "f9763edd",
   "metadata": {},
   "source": [
    "### Recursion: A function that calls itself...\n",
    "\n",
    "the function calculator is calling itself at the end if the user says they want to start over.\n",
    "YOU NEED TO BE CAREFUL though, recursion can result in a forever loop.\n",
    "\n",
    "<b>Cool trick! if you need to do this after writing your code, you can select your code and just hit tab; it will indent all the rows you have selected by one tab.</b>"
   ]
  },
  {
   "cell_type": "code",
   "execution_count": 97,
   "id": "aa47c38d",
   "metadata": {},
   "outputs": [
    {
     "name": "stdout",
     "output_type": "stream",
     "text": [
      "What's the first number?: 2\n",
      "+\n",
      "-\n",
      "*\n",
      "/\n",
      "Pick an operation: *\n",
      "What's the next number?: 3\n",
      "2 * 3 = 6\n",
      "Type 'y' to continue working with 6, or type 'a' to start over: y\n",
      "Pick an operation: *\n",
      "What's the next number?: 2\n",
      "6 * 2 = 12\n"
     ]
    },
    {
     "ename": "KeyboardInterrupt",
     "evalue": "Interrupted by user",
     "output_type": "error",
     "traceback": [
      "\u001b[1;31m---------------------------------------------------------------------------\u001b[0m",
      "\u001b[1;31mKeyboardInterrupt\u001b[0m                         Traceback (most recent call last)",
      "Cell \u001b[1;32mIn[97], line 53\u001b[0m\n\u001b[0;32m     50\u001b[0m       should_continue \u001b[38;5;241m=\u001b[39m \u001b[38;5;28;01mFalse\u001b[39;00m\n\u001b[0;32m     51\u001b[0m       calculator()\n\u001b[1;32m---> 53\u001b[0m \u001b[43mcalculator\u001b[49m\u001b[43m(\u001b[49m\u001b[43m)\u001b[49m\n",
      "Cell \u001b[1;32mIn[97], line 47\u001b[0m, in \u001b[0;36mcalculator\u001b[1;34m()\u001b[0m\n\u001b[0;32m     45\u001b[0m \u001b[38;5;28mprint\u001b[39m(\u001b[38;5;124mf\u001b[39m\u001b[38;5;124m\"\u001b[39m\u001b[38;5;132;01m{\u001b[39;00mnum1\u001b[38;5;132;01m}\u001b[39;00m\u001b[38;5;124m \u001b[39m\u001b[38;5;132;01m{\u001b[39;00moperation_symbol\u001b[38;5;132;01m}\u001b[39;00m\u001b[38;5;124m \u001b[39m\u001b[38;5;132;01m{\u001b[39;00mnum2\u001b[38;5;132;01m}\u001b[39;00m\u001b[38;5;124m = \u001b[39m\u001b[38;5;132;01m{\u001b[39;00manswer\u001b[38;5;132;01m}\u001b[39;00m\u001b[38;5;124m\"\u001b[39m)\n\u001b[0;32m     46\u001b[0m \u001b[38;5;66;03m#do they want to keep going?\u001b[39;00m\n\u001b[1;32m---> 47\u001b[0m \u001b[38;5;28;01mif\u001b[39;00m \u001b[38;5;28;43minput\u001b[39;49m\u001b[43m(\u001b[49m\u001b[38;5;124;43mf\u001b[39;49m\u001b[38;5;124;43m\"\u001b[39;49m\u001b[38;5;124;43mType \u001b[39;49m\u001b[38;5;124;43m'\u001b[39;49m\u001b[38;5;124;43my\u001b[39;49m\u001b[38;5;124;43m'\u001b[39;49m\u001b[38;5;124;43m to continue working with \u001b[39;49m\u001b[38;5;132;43;01m{\u001b[39;49;00m\u001b[43manswer\u001b[49m\u001b[38;5;132;43;01m}\u001b[39;49;00m\u001b[38;5;124;43m, or type \u001b[39;49m\u001b[38;5;124;43m'\u001b[39;49m\u001b[38;5;124;43ma\u001b[39;49m\u001b[38;5;124;43m'\u001b[39;49m\u001b[38;5;124;43m to start over: \u001b[39;49m\u001b[38;5;124;43m\"\u001b[39;49m\u001b[43m)\u001b[49m \u001b[38;5;241m==\u001b[39m \u001b[38;5;124m'\u001b[39m\u001b[38;5;124my\u001b[39m\u001b[38;5;124m'\u001b[39m:\n\u001b[0;32m     48\u001b[0m   num1 \u001b[38;5;241m=\u001b[39m answer\n\u001b[0;32m     49\u001b[0m \u001b[38;5;28;01melse\u001b[39;00m:\n",
      "File \u001b[1;32m~\\anaconda3\\envs\\RaysEnv\\lib\\site-packages\\ipykernel\\kernelbase.py:1175\u001b[0m, in \u001b[0;36mKernel.raw_input\u001b[1;34m(self, prompt)\u001b[0m\n\u001b[0;32m   1171\u001b[0m \u001b[38;5;28;01mif\u001b[39;00m \u001b[38;5;129;01mnot\u001b[39;00m \u001b[38;5;28mself\u001b[39m\u001b[38;5;241m.\u001b[39m_allow_stdin:\n\u001b[0;32m   1172\u001b[0m     \u001b[38;5;28;01mraise\u001b[39;00m StdinNotImplementedError(\n\u001b[0;32m   1173\u001b[0m         \u001b[38;5;124m\"\u001b[39m\u001b[38;5;124mraw_input was called, but this frontend does not support input requests.\u001b[39m\u001b[38;5;124m\"\u001b[39m\n\u001b[0;32m   1174\u001b[0m     )\n\u001b[1;32m-> 1175\u001b[0m \u001b[38;5;28;01mreturn\u001b[39;00m \u001b[38;5;28;43mself\u001b[39;49m\u001b[38;5;241;43m.\u001b[39;49m\u001b[43m_input_request\u001b[49m\u001b[43m(\u001b[49m\n\u001b[0;32m   1176\u001b[0m \u001b[43m    \u001b[49m\u001b[38;5;28;43mstr\u001b[39;49m\u001b[43m(\u001b[49m\u001b[43mprompt\u001b[49m\u001b[43m)\u001b[49m\u001b[43m,\u001b[49m\n\u001b[0;32m   1177\u001b[0m \u001b[43m    \u001b[49m\u001b[38;5;28;43mself\u001b[39;49m\u001b[38;5;241;43m.\u001b[39;49m\u001b[43m_parent_ident\u001b[49m\u001b[43m[\u001b[49m\u001b[38;5;124;43m\"\u001b[39;49m\u001b[38;5;124;43mshell\u001b[39;49m\u001b[38;5;124;43m\"\u001b[39;49m\u001b[43m]\u001b[49m\u001b[43m,\u001b[49m\n\u001b[0;32m   1178\u001b[0m \u001b[43m    \u001b[49m\u001b[38;5;28;43mself\u001b[39;49m\u001b[38;5;241;43m.\u001b[39;49m\u001b[43mget_parent\u001b[49m\u001b[43m(\u001b[49m\u001b[38;5;124;43m\"\u001b[39;49m\u001b[38;5;124;43mshell\u001b[39;49m\u001b[38;5;124;43m\"\u001b[39;49m\u001b[43m)\u001b[49m\u001b[43m,\u001b[49m\n\u001b[0;32m   1179\u001b[0m \u001b[43m    \u001b[49m\u001b[43mpassword\u001b[49m\u001b[38;5;241;43m=\u001b[39;49m\u001b[38;5;28;43;01mFalse\u001b[39;49;00m\u001b[43m,\u001b[49m\n\u001b[0;32m   1180\u001b[0m \u001b[43m\u001b[49m\u001b[43m)\u001b[49m\n",
      "File \u001b[1;32m~\\anaconda3\\envs\\RaysEnv\\lib\\site-packages\\ipykernel\\kernelbase.py:1217\u001b[0m, in \u001b[0;36mKernel._input_request\u001b[1;34m(self, prompt, ident, parent, password)\u001b[0m\n\u001b[0;32m   1214\u001b[0m             \u001b[38;5;28;01mbreak\u001b[39;00m\n\u001b[0;32m   1215\u001b[0m \u001b[38;5;28;01mexcept\u001b[39;00m \u001b[38;5;167;01mKeyboardInterrupt\u001b[39;00m:\n\u001b[0;32m   1216\u001b[0m     \u001b[38;5;66;03m# re-raise KeyboardInterrupt, to truncate traceback\u001b[39;00m\n\u001b[1;32m-> 1217\u001b[0m     \u001b[38;5;28;01mraise\u001b[39;00m \u001b[38;5;167;01mKeyboardInterrupt\u001b[39;00m(\u001b[38;5;124m\"\u001b[39m\u001b[38;5;124mInterrupted by user\u001b[39m\u001b[38;5;124m\"\u001b[39m) \u001b[38;5;28;01mfrom\u001b[39;00m \u001b[38;5;28mNone\u001b[39m\n\u001b[0;32m   1218\u001b[0m \u001b[38;5;28;01mexcept\u001b[39;00m \u001b[38;5;167;01mException\u001b[39;00m:\n\u001b[0;32m   1219\u001b[0m     \u001b[38;5;28mself\u001b[39m\u001b[38;5;241m.\u001b[39mlog\u001b[38;5;241m.\u001b[39mwarning(\u001b[38;5;124m\"\u001b[39m\u001b[38;5;124mInvalid Message:\u001b[39m\u001b[38;5;124m\"\u001b[39m, exc_info\u001b[38;5;241m=\u001b[39m\u001b[38;5;28;01mTrue\u001b[39;00m)\n",
      "\u001b[1;31mKeyboardInterrupt\u001b[0m: Interrupted by user"
     ]
    }
   ],
   "source": [
    "#Calculator\n",
    "\n",
    "#Adding  \n",
    "def add(n1, n2):\n",
    "  return n1+n2\n",
    "\n",
    "#subtracting\n",
    "def subtract(n1, n2):\n",
    "  return n1 - n2\n",
    "\n",
    "#multiplying\n",
    "def multiply(n1, n2):\n",
    "  return n1 * n2\n",
    "\n",
    "#dividing\n",
    "def divide(n1, n2):\n",
    "  return n1/n2\n",
    "\n",
    "#dictionary is going to act as the means to call the functions.\n",
    "operations = {\n",
    "  \"+\": add, \n",
    "  \"-\": subtract, \n",
    "  \"*\": multiply, \n",
    "  \"/\": divide,\n",
    "}\n",
    "\n",
    "def calculator():\n",
    "  #getting inputs\n",
    "  num1 = float(input(\"What's the first number?: \"))\n",
    "  #give them the operation options and get input:\n",
    "  for item in operations:\n",
    "    print(item)\n",
    "\n",
    "  #flag for our loop:\n",
    "  should_continue = True\n",
    "\n",
    "  while should_continue == True:\n",
    "    operation_symbol = input(\"Pick an operation: \")\n",
    "    #pick second number\n",
    "    num2 = float(input(\"What's the next number?: \"))\n",
    "    #choose the function associated with their chosen symbol:\n",
    "    calculation_function = operations[operation_symbol]\n",
    "    answer = calculation_function(num1, num2)\n",
    "    #print result\n",
    "    print(f\"{num1} {operation_symbol} {num2} = {answer}\")\n",
    "    #do they want to keep going?\n",
    "    if input(f\"Type 'y' to continue working with {answer}, or type 'n' to start over: \") == 'y':\n",
    "      num1 = answer\n",
    "    else:\n",
    "      should_continue = False\n",
    "      calculator()\n",
    "\n",
    "calculator()"
   ]
  },
  {
   "cell_type": "code",
   "execution_count": null,
   "id": "narrative-gossip",
   "metadata": {},
   "outputs": [],
   "source": [
    "\n",
    "#setup\n",
    "cards = [11, 2, 3, 4, 5, 6, 7, 8, 9, 10, 10, 10, 10]\n",
    "\n",
    "\n",
    "#import random\n",
    "import random\n",
    "\n",
    "#this does sum, but so does sum function!\n",
    "# def list_sum(list):\n",
    "#   sum = 0\n",
    "#   for x in list:\n",
    "#     sum += x\n",
    "#   return sum\n",
    "\n",
    "def list_sum(list):\n",
    "  return sum(list)\n",
    "    \n",
    "def blackjack():\n",
    "  print(\"\\nEndless blackjack!!\")\n",
    "  #set up and first two cards.\n",
    "  player_hand = []\n",
    "  dealer_hand = []\n",
    "    #this part could have been turned into a function to reduce repetition\n",
    "  player_hand.append(random.choice(cards))\n",
    "  player_hand.append(random.choice(cards))\n",
    "  dealer_hand.append(random.choice(cards))\n",
    "  dealer_hand.append(random.choice(cards))\n",
    "  player_sum = list_sum(player_hand)\n",
    "  dealer_sum = list_sum(dealer_hand)\n",
    "  print(f\"your hand:{player_hand}, your score: {player_sum}\")\n",
    "  print(f\"The dealer's first card is {dealer_hand[0]}.\")\n",
    "\n",
    "  #adding dealer cards\n",
    "  while dealer_sum < 17:\n",
    "    dealer_hand.append(random.choice(cards))\n",
    "    dealer_sum = list_sum(dealer_hand)\n",
    "  \n",
    "  #adding player cards\n",
    "  while player_sum < 21 and input(\"Would you like another card? Type 'y' for yes or 'n' for no: \")=='y':\n",
    "      player_hand.append(random.choice(cards))\n",
    "      player_sum = list_sum(player_hand)\n",
    "      print(f\"your hand:{player_hand}, your score: {player_sum}\")\n",
    "\n",
    "  #outcomes\n",
    "  print(f\"your final hand:{player_hand}, your score: {player_sum}\")\n",
    "  print(f\"The dealer's final hand:{dealer_hand}, their score: {dealer_sum}\")\n",
    "\n",
    "  if player_sum > 21:\n",
    "    print(\"Bust... you went over 21 points.\")\n",
    "  elif dealer_sum == 21:\n",
    "    print(\"The dealer got a Blackjack - they win...\")\n",
    "  elif dealer_sum == player_sum:\n",
    "    print(\"It's a tie.\")\n",
    "  elif player_sum ==21:\n",
    "    print(\"Blackjack! You win with 21 points!\")\n",
    "  elif dealer_sum < player_sum:\n",
    "    print(\"You win by getting more points than the dealer.\")\n",
    "  else:\n",
    "    print(\"Womp womp. you lost.\")\n",
    "  #blackjack()\n",
    "\n",
    "blackjack()"
   ]
  },
  {
   "cell_type": "markdown",
   "id": "medium-dylan",
   "metadata": {},
   "source": [
    "## Directories\n"
   ]
  },
  {
   "cell_type": "code",
   "execution_count": 2,
   "id": "amended-primary",
   "metadata": {},
   "outputs": [
    {
     "data": {
      "text/plain": [
       "'C:\\\\Users\\\\mrocz'"
      ]
     },
     "execution_count": 2,
     "metadata": {},
     "output_type": "execute_result"
    }
   ],
   "source": [
    "import os\n",
    "\n",
    "os.getcwd()"
   ]
  },
  {
   "cell_type": "code",
   "execution_count": 10,
   "id": "average-fortune",
   "metadata": {},
   "outputs": [
    {
     "data": {
      "text/plain": [
       "'C:\\\\Users\\\\mrocz\\\\Downloads'"
      ]
     },
     "execution_count": 10,
     "metadata": {},
     "output_type": "execute_result"
    }
   ],
   "source": [
    "#I believe the number and directions of slashes matters based on settings and operating systems.\n",
    "os.chdir('C:\\\\Users\\\\mrocz\\\\Downloads')\n",
    "os.getcwd()"
   ]
  },
  {
   "cell_type": "markdown",
   "id": "committed-prevention",
   "metadata": {},
   "source": [
    "## Working with CSV files\n",
    "Opening CSV files using csv and pandas packages. Pandas seems way easier but the csv one could be a good back up.\n",
    "here's a good resource: https://realpython.com/python-csv/"
   ]
  },
  {
   "cell_type": "code",
   "execution_count": 17,
   "id": "tired-perception",
   "metadata": {},
   "outputs": [],
   "source": [
    "import csv\n",
    "import pandas as pd"
   ]
  },
  {
   "cell_type": "code",
   "execution_count": 20,
   "id": "defensive-wallpaper",
   "metadata": {},
   "outputs": [
    {
     "name": "stdout",
     "output_type": "stream",
     "text": [
      "d\n",
      "M\n",
      "T\n",
      "W\n",
      "T\n",
      "F\n",
      "S\n",
      "S\n",
      "temp\n",
      "12\n",
      "14\n",
      "15\n",
      "14\n",
      "21\n",
      "22\n",
      "24\n",
      "<_csv.reader object at 0x00000298F3896FA0>\n"
     ]
    }
   ],
   "source": [
    "#data file is just going to be a list of strings; the thing in the 0 place will be the first letter of each row.    \n",
    "with open(\"weather_data.csv\") as data_file:\n",
    "    for row in data_file:\n",
    "        print(row[0])\n",
    "\n",
    "#if you use the csv reader, the thing in index = 1 place will be the 2nd item within each row that is a list.\n",
    "with open(\"weather_data.csv\") as data_file:\n",
    "    data = csv.reader(data_file)\n",
    "    #you can specify the delimiter:\n",
    "    #data = csv.reader(data_file, delimiter='/')\n",
    "    for row in data:\n",
    "        print(row[1])\n",
    "\n",
    "#the csv.reader created a csv reader object.\n",
    "print(data)"
   ]
  },
  {
   "cell_type": "code",
   "execution_count": 27,
   "id": "dated-player",
   "metadata": {},
   "outputs": [
    {
     "name": "stdout",
     "output_type": "stream",
     "text": [
      "Column names are day, temp, condition\n"
     ]
    }
   ],
   "source": [
    "#getting a list of all the column names when using csv reader (not pandas)\n",
    "with open(\"weather_data.csv\") as data_file:\n",
    "    data = csv.reader(data_file)\n",
    "    #helper strategy for setting first line as names\n",
    "    line_count = 0\n",
    "    for row in data:\n",
    "        #getting first row\n",
    "        if line_count ==0:\n",
    "            print(f'Column names are {\", \".join(row)}')\n",
    "            line_count +=1\n",
    "\n",
    "#there's a lot more you could do - read the file in as a dictionary, finish reading in all the rows... etc."
   ]
  },
  {
   "cell_type": "code",
   "execution_count": 21,
   "id": "quantitative-financing",
   "metadata": {},
   "outputs": [
    {
     "name": "stdout",
     "output_type": "stream",
     "text": [
      "         day  temp condition\n",
      "0     Monday    12     Sunny\n",
      "1    Tuesday    14      Rain\n",
      "2  Wednesday    15      Rain\n",
      "3   Thursday    14    Cloudy\n",
      "4     Friday    21     Sunny\n",
      "5   Saturday    22     Sunny\n",
      "6     Sunday    24     Sunny\n",
      "<class 'pandas.core.frame.DataFrame'>\n"
     ]
    }
   ],
   "source": [
    "##you can also use data frames from pandas.\n",
    "data2 = pd.read_csv(\"weather_data.csv\")\n",
    "#specify delimiters if needed, default is comma:\n",
    "#data2 = pd.read_csv(\"weather_data.csv\", delimiter='/')\n",
    "print(data2)\n",
    "\n",
    "#you can see it's a pandas data frame object.\n",
    "print(type(data2))"
   ]
  },
  {
   "cell_type": "markdown",
   "id": "fd97fca2",
   "metadata": {},
   "source": [
    "### Data within Pandas, start\n",
    "\n",
    "Good things to remember:\n",
    "\n",
    "--column names are case sensitive.\n"
   ]
  },
  {
   "cell_type": "code",
   "execution_count": 11,
   "id": "indirect-consultation",
   "metadata": {
    "scrolled": true
   },
   "outputs": [
    {
     "name": "stdout",
     "output_type": "stream",
     "text": [
      "0    12\n",
      "1    14\n",
      "2    15\n",
      "3    14\n",
      "4    21\n",
      "5    22\n",
      "6    24\n",
      "Name: temp, dtype: int64\n",
      "0    12\n",
      "1    14\n",
      "2    15\n",
      "3    14\n",
      "4    21\n",
      "5    22\n",
      "6    24\n",
      "Name: temp, dtype: int64\n",
      "24\n",
      "12\n",
      "      day  temp condition\n",
      "6  Sunday    24     Sunny\n",
      "75.2\n"
     ]
    }
   ],
   "source": [
    "#retrieve temperature on Monday in Farenheit\n",
    "import pandas as pd\n",
    "import os\n",
    "os.chdir('C:\\\\Users\\\\mrocz\\\\Downloads')\n",
    "\n",
    "data3=pd.read_csv(\"weather_data.csv\")\n",
    "#you can retrieve columns two ways:\n",
    "print(data3[\"temp\"])\n",
    "print(data3.temp)\n",
    "#column names are case sensitive.\n",
    "\n",
    "#find max and min:\n",
    "print(data3.temp.max())\n",
    "print(data3.temp.min())\n",
    "\n",
    "#print the row of data where the temp is at its max:\n",
    "# read as \"print the row of data where the temperature is equal to the max temperature\"\n",
    "print(data3[data3.temp == data3.temp.max()])\n",
    "\n",
    "#convert the max temperature day into F:\n",
    "print((data3.temp.max() * 9/5 + 32))"
   ]
  },
  {
   "cell_type": "code",
   "execution_count": 15,
   "id": "f960326c",
   "metadata": {},
   "outputs": [
    {
     "name": "stdout",
     "output_type": "stream",
     "text": [
      "  students  grades\n",
      "0      Amy      90\n",
      "1     John      80\n",
      "2    Karla      70\n"
     ]
    }
   ],
   "source": [
    "#create a data frame from scratch.\n",
    "data_dict = {\n",
    "    \"students\": [\"Amy\", \"John\", \"Karla\"],\n",
    "    \"grades\": [90, 80, 70]\n",
    "}\n",
    "\n",
    "data4 = pd.DataFrame(data_dict)\n",
    "print(data4)\n",
    "\n",
    "#convert it back to csv:\n",
    "import os\n",
    "os.chdir('C:\\\\Users\\\\mrocz\\\\Downloads')\n",
    "\n",
    "data4.to_csv(\"new_data.csv\")"
   ]
  }
 ],
 "metadata": {
  "kernelspec": {
   "display_name": "Python 3",
   "language": "python",
   "name": "python3"
  },
  "language_info": {
   "codemirror_mode": {
    "name": "ipython",
    "version": 3
   },
   "file_extension": ".py",
   "mimetype": "text/x-python",
   "name": "python",
   "nbconvert_exporter": "python",
   "pygments_lexer": "ipython3",
   "version": "3.8.5"
  }
 },
 "nbformat": 4,
 "nbformat_minor": 5
}
