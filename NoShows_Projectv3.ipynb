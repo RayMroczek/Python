{
 "cells": [
  {
   "cell_type": "markdown",
   "metadata": {},
   "source": [
    "# Project: Investigating No-Shows in Brasil\n",
    "\n",
    "## Table of Contents\n",
    "<ul>\n",
    "<li><a href=\"#intro\">Introduction</a></li>\n",
    "<li><a href=\"#wrangling\">Data Wrangling</a></li>\n",
    "<li><a href=\"#eda\">Exploratory Data Analysis</a></li>\n",
    "<li><a href=\"#conclusions\">Conclusions</a></li>\n",
    "</ul>"
   ]
  },
  {
   "cell_type": "markdown",
   "metadata": {},
   "source": [
    "<a id='intro'></a>\n",
    "## Introduction\n",
    "\n",
    "Together, we will examine medical appointment no-shows in Brasil in order to determine what might help predict no-shows in the future. We will aim to answer the following questions:\n",
    "* What factors are important for us to know in order to predict if a patient will show up?\n",
    " * Does the time between the day the appointment was scheduled and the actual appointment impact the percentage of no-shows?\n",
    " * Do more patients show up to their appointments if they receive an SMS reminder?\n",
    " * Do patients in different age groups have different no-show rates? \n",
    " * Are greater or fewer percentage appointments made by patients with Hypertension and/or Diabetes No-Shows compared to appointments made by patients without these conditions?\n",
    " * Are a greater or fewer percentage of appointments made by patients enrolled in the Bolsa Familiar program No-Shows compared to appointments made by patients not enrolled in Bolsa Familia?\n",
    " \n",
    "The dataset used has 110527 records to start, with 14 columns. \n",
    "* PatientID\n",
    "* AppointmentID\n",
    "* Gender\n",
    "* ScheduleDay\n",
    "* AppointmentDay\n",
    "* Neighborhood\n",
    "* Scholarship\n",
    "* Hipertension\n",
    "* Diabetes\n",
    "* Alcoholism\n",
    "* Handcap\n",
    "* SMS_received\n",
    "* No-show\n",
    "\n",
    "**What we know:** We know that ScheduleDay is the day that a patient set up their appointment, Neighborhood is the location of the hospital, and Scholarship is whether or not the patient was enrolled in the welfare progrma Bolsa Familia. We also know that \"No\" in the no-show column means the patient did show up."
   ]
  },
  {
   "cell_type": "code",
   "execution_count": 1,
   "metadata": {},
   "outputs": [],
   "source": [
    "# importing packages\n",
    "import numpy as np\n",
    "import pandas as pd\n",
    "import matplotlib.pyplot as plt\n",
    "import seaborn as sns\n",
    "# ensuring graphs are inline\n",
    "%matplotlib inline"
   ]
  },
  {
   "cell_type": "markdown",
   "metadata": {},
   "source": [
    "<a id='wrangling'></a>\n",
    "## Data Wrangling\n",
    "\n",
    "### General Properties\n",
    "\n",
    "We'll explore the data in order to know what we may need to clean or account for."
   ]
  },
  {
   "cell_type": "code",
   "execution_count": 2,
   "metadata": {},
   "outputs": [
    {
     "name": "stdout",
     "output_type": "stream",
     "text": [
      "<class 'pandas.core.frame.DataFrame'>\n",
      "RangeIndex: 110527 entries, 0 to 110526\n",
      "Data columns (total 14 columns):\n",
      " #   Column          Non-Null Count   Dtype  \n",
      "---  ------          --------------   -----  \n",
      " 0   PatientId       110527 non-null  float64\n",
      " 1   AppointmentID   110527 non-null  int64  \n",
      " 2   Gender          110527 non-null  object \n",
      " 3   ScheduledDay    110527 non-null  object \n",
      " 4   AppointmentDay  110527 non-null  object \n",
      " 5   Age             110527 non-null  int64  \n",
      " 6   Neighbourhood   110527 non-null  object \n",
      " 7   Scholarship     110527 non-null  int64  \n",
      " 8   Hipertension    110527 non-null  int64  \n",
      " 9   Diabetes        110527 non-null  int64  \n",
      " 10  Alcoholism      110527 non-null  int64  \n",
      " 11  Handcap         110527 non-null  int64  \n",
      " 12  SMS_received    110527 non-null  int64  \n",
      " 13  No-show         110527 non-null  object \n",
      "dtypes: float64(1), int64(8), object(5)\n",
      "memory usage: 11.8+ MB\n"
     ]
    }
   ],
   "source": [
    "#reading in the data and describing it\n",
    "data_loc = 'noshow_2016.csv'\n",
    "df = pd.read_csv(data_loc)\n",
    "df.info() #no null values, and some variable types that we will have to change for our analysis."
   ]
  },
  {
   "cell_type": "code",
   "execution_count": 3,
   "metadata": {},
   "outputs": [
    {
     "data": {
      "text/html": [
       "<div>\n",
       "<style scoped>\n",
       "    .dataframe tbody tr th:only-of-type {\n",
       "        vertical-align: middle;\n",
       "    }\n",
       "\n",
       "    .dataframe tbody tr th {\n",
       "        vertical-align: top;\n",
       "    }\n",
       "\n",
       "    .dataframe thead th {\n",
       "        text-align: right;\n",
       "    }\n",
       "</style>\n",
       "<table border=\"1\" class=\"dataframe\">\n",
       "  <thead>\n",
       "    <tr style=\"text-align: right;\">\n",
       "      <th></th>\n",
       "      <th>PatientId</th>\n",
       "      <th>AppointmentID</th>\n",
       "      <th>Age</th>\n",
       "      <th>Scholarship</th>\n",
       "      <th>Hipertension</th>\n",
       "      <th>Diabetes</th>\n",
       "      <th>Alcoholism</th>\n",
       "      <th>Handcap</th>\n",
       "      <th>SMS_received</th>\n",
       "    </tr>\n",
       "  </thead>\n",
       "  <tbody>\n",
       "    <tr>\n",
       "      <th>count</th>\n",
       "      <td>1.105270e+05</td>\n",
       "      <td>1.105270e+05</td>\n",
       "      <td>110527.000000</td>\n",
       "      <td>110527.000000</td>\n",
       "      <td>110527.000000</td>\n",
       "      <td>110527.000000</td>\n",
       "      <td>110527.000000</td>\n",
       "      <td>110527.000000</td>\n",
       "      <td>110527.000000</td>\n",
       "    </tr>\n",
       "    <tr>\n",
       "      <th>mean</th>\n",
       "      <td>1.474963e+14</td>\n",
       "      <td>5.675305e+06</td>\n",
       "      <td>37.088874</td>\n",
       "      <td>0.098266</td>\n",
       "      <td>0.197246</td>\n",
       "      <td>0.071865</td>\n",
       "      <td>0.030400</td>\n",
       "      <td>0.022248</td>\n",
       "      <td>0.321026</td>\n",
       "    </tr>\n",
       "    <tr>\n",
       "      <th>std</th>\n",
       "      <td>2.560949e+14</td>\n",
       "      <td>7.129575e+04</td>\n",
       "      <td>23.110205</td>\n",
       "      <td>0.297675</td>\n",
       "      <td>0.397921</td>\n",
       "      <td>0.258265</td>\n",
       "      <td>0.171686</td>\n",
       "      <td>0.161543</td>\n",
       "      <td>0.466873</td>\n",
       "    </tr>\n",
       "    <tr>\n",
       "      <th>min</th>\n",
       "      <td>3.921784e+04</td>\n",
       "      <td>5.030230e+06</td>\n",
       "      <td>-1.000000</td>\n",
       "      <td>0.000000</td>\n",
       "      <td>0.000000</td>\n",
       "      <td>0.000000</td>\n",
       "      <td>0.000000</td>\n",
       "      <td>0.000000</td>\n",
       "      <td>0.000000</td>\n",
       "    </tr>\n",
       "    <tr>\n",
       "      <th>25%</th>\n",
       "      <td>4.172614e+12</td>\n",
       "      <td>5.640286e+06</td>\n",
       "      <td>18.000000</td>\n",
       "      <td>0.000000</td>\n",
       "      <td>0.000000</td>\n",
       "      <td>0.000000</td>\n",
       "      <td>0.000000</td>\n",
       "      <td>0.000000</td>\n",
       "      <td>0.000000</td>\n",
       "    </tr>\n",
       "    <tr>\n",
       "      <th>50%</th>\n",
       "      <td>3.173184e+13</td>\n",
       "      <td>5.680573e+06</td>\n",
       "      <td>37.000000</td>\n",
       "      <td>0.000000</td>\n",
       "      <td>0.000000</td>\n",
       "      <td>0.000000</td>\n",
       "      <td>0.000000</td>\n",
       "      <td>0.000000</td>\n",
       "      <td>0.000000</td>\n",
       "    </tr>\n",
       "    <tr>\n",
       "      <th>75%</th>\n",
       "      <td>9.439172e+13</td>\n",
       "      <td>5.725524e+06</td>\n",
       "      <td>55.000000</td>\n",
       "      <td>0.000000</td>\n",
       "      <td>0.000000</td>\n",
       "      <td>0.000000</td>\n",
       "      <td>0.000000</td>\n",
       "      <td>0.000000</td>\n",
       "      <td>1.000000</td>\n",
       "    </tr>\n",
       "    <tr>\n",
       "      <th>max</th>\n",
       "      <td>9.999816e+14</td>\n",
       "      <td>5.790484e+06</td>\n",
       "      <td>115.000000</td>\n",
       "      <td>1.000000</td>\n",
       "      <td>1.000000</td>\n",
       "      <td>1.000000</td>\n",
       "      <td>1.000000</td>\n",
       "      <td>4.000000</td>\n",
       "      <td>1.000000</td>\n",
       "    </tr>\n",
       "  </tbody>\n",
       "</table>\n",
       "</div>"
      ],
      "text/plain": [
       "          PatientId  AppointmentID            Age    Scholarship  \\\n",
       "count  1.105270e+05   1.105270e+05  110527.000000  110527.000000   \n",
       "mean   1.474963e+14   5.675305e+06      37.088874       0.098266   \n",
       "std    2.560949e+14   7.129575e+04      23.110205       0.297675   \n",
       "min    3.921784e+04   5.030230e+06      -1.000000       0.000000   \n",
       "25%    4.172614e+12   5.640286e+06      18.000000       0.000000   \n",
       "50%    3.173184e+13   5.680573e+06      37.000000       0.000000   \n",
       "75%    9.439172e+13   5.725524e+06      55.000000       0.000000   \n",
       "max    9.999816e+14   5.790484e+06     115.000000       1.000000   \n",
       "\n",
       "        Hipertension       Diabetes     Alcoholism        Handcap  \\\n",
       "count  110527.000000  110527.000000  110527.000000  110527.000000   \n",
       "mean        0.197246       0.071865       0.030400       0.022248   \n",
       "std         0.397921       0.258265       0.171686       0.161543   \n",
       "min         0.000000       0.000000       0.000000       0.000000   \n",
       "25%         0.000000       0.000000       0.000000       0.000000   \n",
       "50%         0.000000       0.000000       0.000000       0.000000   \n",
       "75%         0.000000       0.000000       0.000000       0.000000   \n",
       "max         1.000000       1.000000       1.000000       4.000000   \n",
       "\n",
       "        SMS_received  \n",
       "count  110527.000000  \n",
       "mean        0.321026  \n",
       "std         0.466873  \n",
       "min         0.000000  \n",
       "25%         0.000000  \n",
       "50%         0.000000  \n",
       "75%         1.000000  \n",
       "max         1.000000  "
      ]
     },
     "execution_count": 3,
     "metadata": {},
     "output_type": "execute_result"
    }
   ],
   "source": [
    " df.describe() #age has a -1 value that we'll need to address."
   ]
  },
  {
   "cell_type": "code",
   "execution_count": 4,
   "metadata": {},
   "outputs": [
    {
     "data": {
      "text/html": [
       "<div>\n",
       "<style scoped>\n",
       "    .dataframe tbody tr th:only-of-type {\n",
       "        vertical-align: middle;\n",
       "    }\n",
       "\n",
       "    .dataframe tbody tr th {\n",
       "        vertical-align: top;\n",
       "    }\n",
       "\n",
       "    .dataframe thead th {\n",
       "        text-align: right;\n",
       "    }\n",
       "</style>\n",
       "<table border=\"1\" class=\"dataframe\">\n",
       "  <thead>\n",
       "    <tr style=\"text-align: right;\">\n",
       "      <th></th>\n",
       "      <th>PatientId</th>\n",
       "      <th>AppointmentID</th>\n",
       "      <th>Gender</th>\n",
       "      <th>ScheduledDay</th>\n",
       "      <th>AppointmentDay</th>\n",
       "      <th>Age</th>\n",
       "      <th>Neighbourhood</th>\n",
       "      <th>Scholarship</th>\n",
       "      <th>Hipertension</th>\n",
       "      <th>Diabetes</th>\n",
       "      <th>Alcoholism</th>\n",
       "      <th>Handcap</th>\n",
       "      <th>SMS_received</th>\n",
       "      <th>No-show</th>\n",
       "    </tr>\n",
       "  </thead>\n",
       "  <tbody>\n",
       "    <tr>\n",
       "      <th>99832</th>\n",
       "      <td>4.659432e+14</td>\n",
       "      <td>5775010</td>\n",
       "      <td>F</td>\n",
       "      <td>2016-06-06T08:58:13Z</td>\n",
       "      <td>2016-06-06T00:00:00Z</td>\n",
       "      <td>-1</td>\n",
       "      <td>ROMÃO</td>\n",
       "      <td>0</td>\n",
       "      <td>0</td>\n",
       "      <td>0</td>\n",
       "      <td>0</td>\n",
       "      <td>0</td>\n",
       "      <td>0</td>\n",
       "      <td>No</td>\n",
       "    </tr>\n",
       "  </tbody>\n",
       "</table>\n",
       "</div>"
      ],
      "text/plain": [
       "          PatientId  AppointmentID Gender          ScheduledDay  \\\n",
       "99832  4.659432e+14        5775010      F  2016-06-06T08:58:13Z   \n",
       "\n",
       "             AppointmentDay  Age Neighbourhood  Scholarship  Hipertension  \\\n",
       "99832  2016-06-06T00:00:00Z   -1         ROMÃO            0             0   \n",
       "\n",
       "       Diabetes  Alcoholism  Handcap  SMS_received No-show  \n",
       "99832         0           0        0             0      No  "
      ]
     },
     "execution_count": 4,
     "metadata": {},
     "output_type": "execute_result"
    }
   ],
   "source": [
    "df.query('Age < 0')"
   ]
  },
  {
   "cell_type": "code",
   "execution_count": 5,
   "metadata": {},
   "outputs": [
    {
     "data": {
      "text/plain": [
       "PatientId          62299\n",
       "AppointmentID     110527\n",
       "Gender                 2\n",
       "ScheduledDay      103549\n",
       "AppointmentDay        27\n",
       "Age                  104\n",
       "Neighbourhood         81\n",
       "Scholarship            2\n",
       "Hipertension           2\n",
       "Diabetes               2\n",
       "Alcoholism             2\n",
       "Handcap                5\n",
       "SMS_received           2\n",
       "No-show                2\n",
       "dtype: int64"
      ]
     },
     "execution_count": 5,
     "metadata": {},
     "output_type": "execute_result"
    }
   ],
   "source": [
    "df.nunique()"
   ]
  },
  {
   "cell_type": "code",
   "execution_count": 6,
   "metadata": {},
   "outputs": [
    {
     "data": {
      "text/html": [
       "<div>\n",
       "<style scoped>\n",
       "    .dataframe tbody tr th:only-of-type {\n",
       "        vertical-align: middle;\n",
       "    }\n",
       "\n",
       "    .dataframe tbody tr th {\n",
       "        vertical-align: top;\n",
       "    }\n",
       "\n",
       "    .dataframe thead th {\n",
       "        text-align: right;\n",
       "    }\n",
       "</style>\n",
       "<table border=\"1\" class=\"dataframe\">\n",
       "  <thead>\n",
       "    <tr style=\"text-align: right;\">\n",
       "      <th></th>\n",
       "      <th>PatientId</th>\n",
       "      <th>AppointmentID</th>\n",
       "      <th>Gender</th>\n",
       "      <th>ScheduledDay</th>\n",
       "      <th>AppointmentDay</th>\n",
       "      <th>Age</th>\n",
       "      <th>Neighbourhood</th>\n",
       "      <th>Scholarship</th>\n",
       "      <th>Hipertension</th>\n",
       "      <th>Diabetes</th>\n",
       "      <th>Alcoholism</th>\n",
       "      <th>Handcap</th>\n",
       "      <th>SMS_received</th>\n",
       "      <th>No-show</th>\n",
       "    </tr>\n",
       "  </thead>\n",
       "  <tbody>\n",
       "    <tr>\n",
       "      <th>0</th>\n",
       "      <td>2.987250e+13</td>\n",
       "      <td>5642903</td>\n",
       "      <td>F</td>\n",
       "      <td>2016-04-29T18:38:08Z</td>\n",
       "      <td>2016-04-29T00:00:00Z</td>\n",
       "      <td>62</td>\n",
       "      <td>JARDIM DA PENHA</td>\n",
       "      <td>0</td>\n",
       "      <td>1</td>\n",
       "      <td>0</td>\n",
       "      <td>0</td>\n",
       "      <td>0</td>\n",
       "      <td>0</td>\n",
       "      <td>No</td>\n",
       "    </tr>\n",
       "  </tbody>\n",
       "</table>\n",
       "</div>"
      ],
      "text/plain": [
       "      PatientId  AppointmentID Gender          ScheduledDay  \\\n",
       "0  2.987250e+13        5642903      F  2016-04-29T18:38:08Z   \n",
       "\n",
       "         AppointmentDay  Age    Neighbourhood  Scholarship  Hipertension  \\\n",
       "0  2016-04-29T00:00:00Z   62  JARDIM DA PENHA            0             1   \n",
       "\n",
       "   Diabetes  Alcoholism  Handcap  SMS_received No-show  \n",
       "0         0           0        0             0      No  "
      ]
     },
     "execution_count": 6,
     "metadata": {},
     "output_type": "execute_result"
    }
   ],
   "source": [
    "df.head(1) # we can see that ScheduledDay has so many more unique values because it also includes the time of day."
   ]
  },
  {
   "cell_type": "markdown",
   "metadata": {},
   "source": [
    "**Notes from brief exploration before cleaning:**\n",
    "\n",
    "* There is one row where age is less than zero. We will drop this row 99832 or appointment ID 5775010.\n",
    "* There are 110,527 unique values for the appointment IDs, which means there are no duplicates there to review.\n",
    "* Handicap looks like it may be categorical, as the max is 4 rather than 1 for yes and 0 for no. However, we are not analyzing this variable and will not explore further at this time.\n",
    "* There are no fully duplicated rows.\n",
    "* There are no blank cells in this dataset for any variable.\n",
    "* For our specific questions, we'll need to change ScheduledDay and AppointmentDay from strings to date-type columns. Additionally, we will want to trim the time of day information off of ScheduledDay to make the two variables comparable.\n",
    "* We will also have to create an age variable that puts age into categories, and a variable that notes whether someone has Hypertension and/or Diabetes."
   ]
  },
  {
   "cell_type": "code",
   "execution_count": 7,
   "metadata": {},
   "outputs": [
    {
     "data": {
      "text/plain": [
       "0"
      ]
     },
     "execution_count": 7,
     "metadata": {},
     "output_type": "execute_result"
    }
   ],
   "source": [
    "#check for fully duplicated rows:\n",
    "df.duplicated().sum()"
   ]
  },
  {
   "cell_type": "code",
   "execution_count": 8,
   "metadata": {},
   "outputs": [],
   "source": [
    "# Dropping single row where Age < 0\n",
    "df.drop(df.index[99832], inplace=True)\n",
    "#df.query('Age < 0') #confirmed drop."
   ]
  },
  {
   "cell_type": "markdown",
   "metadata": {},
   "source": [
    "### Data Cleaning\n",
    "\n",
    "In this section, I will:\n",
    "* drop the row with negative age values\n",
    "* change ScheduledDay and AppointmentDay data types to be dates and to both exclude time of day\n",
    "* create a new column AgeGroups that groups patients into age groups (based on percentiles)\n",
    "* create a new column Diabetes_Hypertension that notes if a patient has Diabetes and/or Hypertension\n",
    "\n",
    "**Note:** We will also drop 5 cases where the appointment day is less than the scheduled day, as it is not clear what caused this issue and there are so few cases in this category."
   ]
  },
  {
   "cell_type": "code",
   "execution_count": 9,
   "metadata": {},
   "outputs": [
    {
     "data": {
      "text/plain": [
       "count                        110526\n",
       "mean     10 days 04:24:39.789370826\n",
       "std      15 days 06:07:14.979140739\n",
       "min               -6 days +00:00:00\n",
       "25%                 0 days 00:00:00\n",
       "50%                 4 days 00:00:00\n",
       "75%                15 days 00:00:00\n",
       "max               179 days 00:00:00\n",
       "Name: Difference_time, dtype: object"
      ]
     },
     "execution_count": 9,
     "metadata": {},
     "output_type": "execute_result"
    }
   ],
   "source": [
    "df['ScheduledDay'] = pd.to_datetime(df['ScheduledDay']).dt.date\n",
    "df['AppointmentDay'] = pd.to_datetime(df['AppointmentDay']).dt.date\n",
    "\n",
    "#print(type(df['ScheduledDay'][0]))\n",
    "#print(type(df['AppointmentDay'][0])) #both are datetime.date\n",
    "\n",
    "df['Difference_time'] = df.AppointmentDay-df. ScheduledDay\n",
    "df['Difference_time'].describe()\n",
    "#there are some rows where appointment day was before the scheduled day.\n",
    "\n",
    "#df.query('Difference_time < \"0 days\"')"
   ]
  },
  {
   "cell_type": "markdown",
   "metadata": {},
   "source": [
    "**Below, we'll create new columns that will help us analyze no-shows more easily:**\n",
    "* Days between appointment and when it was scheduled\n",
    "* Age groups\n",
    "* Classifier if an appointmetn is for a patient with Diabetes and/or Hypertension"
   ]
  },
  {
   "cell_type": "code",
   "execution_count": 10,
   "metadata": {},
   "outputs": [],
   "source": [
    "df.drop(df.query('Difference_time < \"0 days\"').index, inplace = True) \n",
    "#df.shape"
   ]
  },
  {
   "cell_type": "code",
   "execution_count": 11,
   "metadata": {},
   "outputs": [
    {
     "name": "stdout",
     "output_type": "stream",
     "text": [
      "count                        110521\n",
      "mean     10 days 04:25:27.412889858\n",
      "std      15 days 06:07:25.262183605\n",
      "min                 0 days 00:00:00\n",
      "25%                 0 days 00:00:00\n",
      "50%                 4 days 00:00:00\n",
      "75%                15 days 00:00:00\n",
      "max               179 days 00:00:00\n",
      "Name: Difference_time, dtype: object\n"
     ]
    },
    {
     "data": {
      "text/plain": [
       "same day       38562\n",
       "16-179 days    26246\n",
       "5-15 days      25748\n",
       "1-4 days       19965\n",
       "Name: TimeGroups, dtype: int64"
      ]
     },
     "execution_count": 11,
     "metadata": {},
     "output_type": "execute_result"
    }
   ],
   "source": [
    "#creating groups for the Day difference column to make it easier to analyze later.\n",
    "print(df.Difference_time.describe())\n",
    "df['Difference_time'] = df['Difference_time'].dt.days.astype('int16')\n",
    "#type(df['Difference_time'][0])\n",
    "\n",
    "condition = [\n",
    "    (df['Difference_time'] == 0),\n",
    "    (df['Difference_time'] >= 1) & (df['Difference_time'] <= 4),\n",
    "    (df['Difference_time'] >= 5) & (df['Difference_time'] <= 15), \n",
    "    (df['Difference_time'] >= 16) & (df['Difference_time'] <= 179), \n",
    "    ]\n",
    "\n",
    "values = [\"same day\", \"1-4 days\", \"5-15 days\", \"16-179 days\"]\n",
    "df['TimeGroups'] = np.select(condition, values)\n",
    "df.TimeGroups.value_counts()\n",
    "\n",
    "#utilized this tutorial: https://www.dataquest.io/blog/tutorial-add-column-pandas-dataframe-based-on-if-else-condition/"
   ]
  },
  {
   "cell_type": "code",
   "execution_count": 12,
   "metadata": {},
   "outputs": [
    {
     "name": "stdout",
     "output_type": "stream",
     "text": [
      "count    110521.000000\n",
      "mean         37.089386\n",
      "std          23.109885\n",
      "min           0.000000\n",
      "25%          18.000000\n",
      "50%          37.000000\n",
      "75%          55.000000\n",
      "max         115.000000\n",
      "Name: Age, dtype: float64\n"
     ]
    },
    {
     "data": {
      "text/plain": [
       "Ages 56-115    27503\n",
       "Ages 19-37     27248\n",
       "Ages 38-55     26905\n",
       "Ages 0-18      25326\n",
       "Name: AgeGroups, dtype: int64"
      ]
     },
     "execution_count": 12,
     "metadata": {},
     "output_type": "execute_result"
    }
   ],
   "source": [
    "# make grouped age variable.\n",
    "\n",
    "print(df.Age.describe()) \n",
    "#bin edges for age groups will be based on percentiles, so 0-18, 19-37, 38-55, and 56-115.\n",
    "\n",
    "bin_edges = [0, 18, 37, 55, 115]\n",
    "bin_names = [\"Ages 0-18\", \"Ages 19-37\", \"Ages 38-55\", \"Ages 56-115\"]\n",
    "df['AgeGroups'] = pd.cut(df['Age'], bin_edges, labels=bin_names)\n",
    "\n",
    "df.AgeGroups.value_counts()"
   ]
  },
  {
   "cell_type": "code",
   "execution_count": 13,
   "metadata": {},
   "outputs": [],
   "source": [
    "# make binary column for if someone has Diabetes and/or Hypertension\n",
    "condition_2 = [\n",
    "    (df['Diabetes'] == 1) | (df['Hipertension'] == 1),\n",
    "    (df['Diabetes'] == 0) & (df['Hipertension'] == 0)\n",
    "    ]\n",
    "\n",
    "values_2 = [1, 0]\n",
    "df['Diabetes_Hypertension'] = np.select(condition_2, values_2)\n",
    "#df.head()\n",
    "\n",
    "#utilized this tutorial: https://www.dataquest.io/blog/tutorial-add-column-pandas-dataframe-based-on-if-else-condition/"
   ]
  },
  {
   "cell_type": "markdown",
   "metadata": {},
   "source": [
    "<a id='eda'></a>\n",
    "## Exploratory Data Analysis\n",
    "\n",
    "First, Let's look at our No-Show column on its own to get a sense of how many no-shows there are.\n",
    "We can see from the counts that there are over 20,000 No-Shows, but that it's far more common to keep one's appointment."
   ]
  },
  {
   "cell_type": "code",
   "execution_count": 14,
   "metadata": {},
   "outputs": [
    {
     "data": {
      "text/plain": [
       "Text(0, 0.5, 'Count')"
      ]
     },
     "execution_count": 14,
     "metadata": {},
     "output_type": "execute_result"
    },
    {
     "data": {
      "image/png": "[encoded data removed]",
      "text/plain": [
       "<Figure size 432x288 with 1 Axes>"
      ]
     },
     "metadata": {
      "needs_background": "light"
     },
     "output_type": "display_data"
    }
   ],
   "source": [
    "colors = ['green','red'] #cleaning up\n",
    "show_counts = df.groupby('No-show')['AppointmentID'].count()\n",
    "show_counts.plot(kind='bar', title='No-Show Counts, Overall', color=colors, alpha=.7)\n",
    "plt.xlabel('Kept Appointment (No) and No-Shows (Yes)', fontsize=12)\n",
    "plt.ylabel('Count', fontsize=12)"
   ]
  },
  {
   "cell_type": "markdown",
   "metadata": {},
   "source": [
    "### <font color='orange'> Research Question 1:  Does the time between the day the appointment was scheduled and the actual appointment impact the percentage of no-shows? </font>\n",
    "\n",
    "First, let's look at appointment date and schedule date independently from No-Shows. Below, we can see that over 50% of appointments were scheduled only 4 days prior to the appointment date, with 25% of appointments occuring on the same day."
   ]
  },
  {
   "cell_type": "code",
   "execution_count": 15,
   "metadata": {},
   "outputs": [
    {
     "name": "stdout",
     "output_type": "stream",
     "text": [
      "count    110521.000000\n",
      "mean         10.184345\n",
      "std          15.255153\n",
      "min           0.000000\n",
      "25%           0.000000\n",
      "50%           4.000000\n",
      "75%          15.000000\n",
      "max         179.000000\n",
      "Name: Difference_time, dtype: float64\n"
     ]
    },
    {
     "data": {
      "image/png": "[encoded data removed]",
      "text/plain": [
       "<Figure size 576x432 with 1 Axes>"
      ]
     },
     "metadata": {
      "needs_background": "light"
     },
     "output_type": "display_data"
    }
   ],
   "source": [
    "fig, ax = plt.subplots(figsize=(8,6))\n",
    "ax.hist (df['Difference_time'], alpha = 0.7, label = 'Time Difference')\n",
    "ax.set_title('Distributions of Days Between Scheduling and Appointment Day')\n",
    "ax.set_xlabel('Days between Scheduling and Appointment Day')\n",
    "ax.set_ylabel('Count')\n",
    "\n",
    "print(df['Difference_time'].describe())\n",
    "plt.show()"
   ]
  },
  {
   "cell_type": "markdown",
   "metadata": {},
   "source": [
    "Now Let's look at how the percent of no-shows varies by the difference between the time the appointment was scheduled and the actual appointment day. We'll have to first create groups for the date difference, and I will use percentiles."
   ]
  },
  {
   "cell_type": "code",
   "execution_count": 16,
   "metadata": {},
   "outputs": [
    {
     "name": "stdout",
     "output_type": "stream",
     "text": [
      "Same Day % No Shows No-show\n",
      "Yes    0.046471\n",
      "Name: AppointmentID, dtype: float64\n",
      "1-4 Days % No Shows No-show\n",
      "Yes    0.229902\n",
      "Name: AppointmentID, dtype: float64\n",
      "5-15 Days % No Shows No-show\n",
      "Yes    0.285381\n",
      "Name: AppointmentID, dtype: float64\n",
      "16-179 Days % No Shows No-show\n",
      "Yes    0.327059\n",
      "Name: AppointmentID, dtype: float64\n"
     ]
    }
   ],
   "source": [
    "#Let's explore our calculated variable that measures the number of days between the appointment day and the scheduled day.\n",
    "# get counts of No-Shows (yes) or Shows (no) for each Time Difference Group\n",
    "\n",
    "time_counts = df.groupby(['TimeGroups','No-show']).count()['AppointmentID']\n",
    "time_totals = df.groupby('TimeGroups').count()['AppointmentID']\n",
    "#print(time_counts)\n",
    "#print(time_totals)\n",
    "\n",
    "sameday_proportions = (time_counts['same day'] / time_totals['same day']).sort_values()\n",
    "day1to4_proportions = (time_counts['1-4 days'] / time_totals['1-4 days']).sort_values()\n",
    "day5to15_proportions = (time_counts['5-15 days'] / time_totals['5-15 days']).sort_values()\n",
    "day16to179_proportions = (time_counts['16-179 days'] / time_totals['16-179 days']).sort_values()\n",
    "\n",
    "sameday_proportions = sameday_proportions.drop([\"No\"]);\n",
    "day1to4_proportions = day1to4_proportions.drop([\"No\"]);\n",
    "day5to15_proportions = day5to15_proportions.drop([\"No\"]);\n",
    "day16to179_proportions = day16to179_proportions.drop([\"No\"]);\n",
    "\n",
    "print(\"Same Day % No Shows\", sameday_proportions)\n",
    "print(\"1-4 Days % No Shows\", day1to4_proportions)\n",
    "print(\"5-15 Days % No Shows\", day5to15_proportions)\n",
    "print(\"16-179 Days % No Shows\", day16to179_proportions)\n",
    "\n",
    "time_series = pd.Series([0.046471,0.229902,0.285381,0.327059], index=['Same Day', '1-4 Days', '5-15 Days', '16-179 Days'])\n",
    "#Note to reviewer: this seems really cumbersome. \n",
    "#Any suggestions on how to get % no-shows graphed for these categories would be super helpful."
   ]
  },
  {
   "cell_type": "code",
   "execution_count": 17,
   "metadata": {},
   "outputs": [
    {
     "name": "stdout",
     "output_type": "stream",
     "text": [
      "Same Day        4.6471\n",
      "1-4 Days       22.9902\n",
      "5-15 Days      28.5381\n",
      "16-179 Days    32.7059\n",
      "dtype: float64\n"
     ]
    },
    {
     "data": {
      "text/plain": [
       "Text(0.5, 0, 'Days between Scheduling Day and Appointment Day')"
      ]
     },
     "execution_count": 17,
     "metadata": {},
     "output_type": "execute_result"
    },
    {
     "data": {
      "image/png": "[encoded data removed]",
      "text/plain": [
       "<Figure size 432x288 with 1 Axes>"
      ]
     },
     "metadata": {
      "needs_background": "light"
     },
     "output_type": "display_data"
    }
   ],
   "source": [
    "print(time_series*100,)\n",
    "locations = [1,2,3,4]\n",
    "heights = time_series\n",
    "labels = ['same day', '1-4 days', '5-15 days', '16+ days']  # xtick labels\n",
    "\n",
    "time_graph = plt.bar(locations, heights, tick_label=labels)\n",
    "\n",
    "plt.title(\"Percentage No-Shows By Distance Between Scheduling Day and Appointment Day\")\n",
    "plt.ylabel(\"% No Shows\")\n",
    "plt.xlabel(\"Days between Scheduling Day and Appointment Day\")"
   ]
  },
  {
   "cell_type": "markdown",
   "metadata": {},
   "source": [
    "**Research Question 1, Notes:**\n",
    "\n",
    "We can see that the percentage of No-Shows appears to increase as the distance between the date the appointment was scheduled and the date of the actual appointment increases, with 5% of No-Shows for same-day appointments, 23% No-Shows for appointments 1-4 days after scheduling, 29% No-Shows for appointments scheduled 5-15 days prior, and 33% No-Shows for appointments scheduled 16 days or more prior.\n",
    "\n",
    "This finding, however, does not mean that earlier appointments in and of themselves may reduce No-Shows, as certain kinds of patient needs may be more urgent, and therefore scheduled for more rapid intake, than others. Same-day appointments also may imply that the patient was already at the hospital for a first appointment."
   ]
  },
  {
   "cell_type": "markdown",
   "metadata": {},
   "source": [
    "### <font color='orange'> Research Question 2: Do more patients show up to their appointments if they receive an SMS reminder? </font>\n",
    "\n",
    "\n",
    "First, let's look at SMS reminders independently of No-Shows. It looks like sending an SMS reminder is a lot less common than not sending one."
   ]
  },
  {
   "cell_type": "code",
   "execution_count": 18,
   "metadata": {},
   "outputs": [
    {
     "data": {
      "image/png": "[encoded data removed]",
      "text/plain": [
       "<Figure size 432x288 with 1 Axes>"
      ]
     },
     "metadata": {
      "needs_background": "light"
     },
     "output_type": "display_data"
    }
   ],
   "source": [
    "df['No-show'].value_counts().plot(kind='bar', title = \"Appointment Counts by SMS Reminder Status\", xlabel = \"SMS Reminder Sent\", ylabel = \"Count\");"
   ]
  },
  {
   "cell_type": "markdown",
   "metadata": {},
   "source": [
    "Now Let's look at percentages of No-Shows for patients by whether or not they received an SMS."
   ]
  },
  {
   "cell_type": "code",
   "execution_count": 19,
   "metadata": {},
   "outputs": [
    {
     "name": "stdout",
     "output_type": "stream",
     "text": [
      "SMS_received  No-show\n",
      "0             No         62509\n",
      "              Yes        12530\n",
      "1             No         25698\n",
      "              Yes         9784\n",
      "Name: AppointmentID, dtype: int64\n",
      "SMS_received\n",
      "0    75039\n",
      "1    35482\n",
      "Name: AppointmentID, dtype: int64\n",
      "Received SMS: % No-Shows No-show\n",
      "Yes    0.275745\n",
      "Name: AppointmentID, dtype: float64\n",
      "No SMS: % No-Shows No-show\n",
      "Yes    0.16698\n",
      "Name: AppointmentID, dtype: float64\n"
     ]
    }
   ],
   "source": [
    "SMS_counts = df.groupby(['SMS_received','No-show']).count()['AppointmentID']\n",
    "print(SMS_counts)\n",
    "SMS_totals = df.groupby('SMS_received').count()['AppointmentID']\n",
    "print(SMS_totals)\n",
    "\n",
    "SMS_proportions = (SMS_counts[1] / SMS_totals[1]).sort_values()\n",
    "NoSMS_proportions = (SMS_counts[0] / SMS_totals[0]).sort_values()\n",
    "\n",
    "SMS_proportions = SMS_proportions.drop([\"No\"]);\n",
    "NoSMS_proportions = NoSMS_proportions.drop([\"No\"]);\n",
    "\n",
    "print(\"Received SMS: % No-Shows\",SMS_proportions)\n",
    "print(\"No SMS: % No-Shows\", NoSMS_proportions)"
   ]
  },
  {
   "cell_type": "code",
   "execution_count": 20,
   "metadata": {
    "scrolled": true
   },
   "outputs": [
    {
     "data": {
      "image/png": "[encoded data removed]",
      "text/plain": [
       "<Figure size 360x216 with 1 Axes>"
      ]
     },
     "metadata": {
      "needs_background": "light"
     },
     "output_type": "display_data"
    }
   ],
   "source": [
    "#Note to reviewer: I use a different approach for graphing here, to avoid having to put in manual values, \n",
    "#but it still feels very cumbersome and prone to error. Advice or Resources appreciated.\n",
    "#maybe some kind of aggregation + reorganization + % calculations?\n",
    "\n",
    "locations = np.arange(len(SMS_proportions))  # the x locations for the groups\n",
    "width = 0.35 # the width of the bars\n",
    "plt.figure(figsize=(5,3))\n",
    "\n",
    "SMS_bars = plt.bar(locations, SMS_proportions, width, color='r', alpha=.7, label=\"Received SMS\")\n",
    "NoSMS_bars = plt.bar(locations + 0.5, NoSMS_proportions, width, color='b', alpha=.7, label=\"Did Not Receive SMS\")\n",
    "\n",
    "# title and labels\n",
    "plt.ylabel('% No Shows')\n",
    "plt.title('Percentage of No-Shows By SMS Reminder Status');\n",
    "\n",
    "\n",
    "# labels\n",
    "locations = locations + 0.5 / 2  # xtick locations\n",
    "labels = ['SMS Reminder Status']  # xtick labels\n",
    "plt.xticks(locations, labels)\n",
    "\n",
    "# legend\n",
    "plt.legend();"
   ]
  },
  {
   "cell_type": "markdown",
   "metadata": {},
   "source": [
    "**Research Question 2, Notes:**\n",
    "\n",
    "A greater percentage of patients who received SMS reminders did not show up to their appointments (28%) compared to those who did not receive an SMS reminder (17%).\n",
    "\n",
    "This again does not imply that not sending an SMS would yield lower No-Show rates, and could have something to do with who has signed up to receive SMS reminders, which types of appointments receive SMS reminders. or something else."
   ]
  },
  {
   "cell_type": "markdown",
   "metadata": {},
   "source": [
    "\n",
    "###  <font color='orange'> Research Question 3: Do patients in different age groups have different no-show rates? </font>\n",
    "\n",
    "First, let's look at age indpendently to get a sense of the distribution. It looks like the data skews right, and that the largest bin is for appointments made for patients 10 years old or younger."
   ]
  },
  {
   "cell_type": "code",
   "execution_count": 21,
   "metadata": {},
   "outputs": [
    {
     "data": {
      "image/png": "[encoded data removed]",
      "text/plain": [
       "<Figure size 576x432 with 1 Axes>"
      ]
     },
     "metadata": {
      "needs_background": "light"
     },
     "output_type": "display_data"
    }
   ],
   "source": [
    "fig, ax = plt.subplots(figsize=(8,6))\n",
    "ax.hist (df['Age'], alpha = 0.7, label = 'Age')\n",
    "ax.set_title('Distribution of Age')\n",
    "ax.set_xlabel('Age')\n",
    "ax.set_ylabel('Count')\n",
    "plt.show()"
   ]
  },
  {
   "cell_type": "markdown",
   "metadata": {},
   "source": [
    "Let's look at whether different age groups have different No-Show rates, similar to how we looked at time differences and SMS reminders."
   ]
  },
  {
   "cell_type": "code",
   "execution_count": 22,
   "metadata": {},
   "outputs": [
    {
     "name": "stdout",
     "output_type": "stream",
     "text": [
      "AgeGroups    No-show\n",
      "Ages 56-115  Yes        0.156419\n",
      "Ages 38-55   Yes        0.195280\n",
      "Ages 0-18    Yes        0.225342\n",
      "Ages 19-37   Yes        0.235320\n",
      "             No         0.764680\n",
      "Ages 0-18    No         0.774658\n",
      "Ages 38-55   No         0.804720\n",
      "Ages 56-115  No         0.843581\n",
      "Name: AppointmentID, dtype: float64\n"
     ]
    }
   ],
   "source": [
    "Age_counts = df.groupby(['AgeGroups','No-show']).count()['AppointmentID']\n",
    "Age_totals = df.groupby(['AgeGroups']).count()['AppointmentID']\n",
    "age_proportions = (Age_counts / Age_totals).sort_values()\n",
    "print(age_proportions)\n",
    "\n",
    "age_series = [0.225350, 0.235320, 0.195280, 0.156419] #taking age proportions for No-Shows and sorting by age group"
   ]
  },
  {
   "cell_type": "code",
   "execution_count": 23,
   "metadata": {},
   "outputs": [
    {
     "data": {
      "image/png": "[encoded data removed]",
      "text/plain": [
       "<Figure size 360x216 with 1 Axes>"
      ]
     },
     "metadata": {
      "needs_background": "light"
     },
     "output_type": "display_data"
    }
   ],
   "source": [
    "locations_age = [1,2,3,4]\n",
    "heights_age = age_series\n",
    "labels_age = ['Ages 0-18', 'Ages 19-37', 'Ages 38-55', 'Ages 56-115']\n",
    "\n",
    "plt.figure(figsize=(5,3))\n",
    "plt.title(\"Percentage No-Shows By Age Group\")\n",
    "plt.ylabel(\"Percentage\")\n",
    "plt.xlabel(\"Age Groups (Percentiles)\")\n",
    "\n",
    "ages_graph = plt.bar(locations_age, heights_age, tick_label=labels_age)"
   ]
  },
  {
   "cell_type": "code",
   "execution_count": 24,
   "metadata": {},
   "outputs": [
    {
     "data": {
      "image/png": "[encoded data removed]",
      "text/plain": [
       "<Figure size 432x288 with 1 Axes>"
      ]
     },
     "metadata": {
      "needs_background": "light"
     },
     "output_type": "display_data"
    },
    {
     "data": {
      "image/png": "[encoded data removed]",
      "text/plain": [
       "<Figure size 412x360 with 1 Axes>"
      ]
     },
     "metadata": {
      "needs_background": "light"
     },
     "output_type": "display_data"
    }
   ],
   "source": [
    "#We can also look at age among no-shows without grouping through box plots. \n",
    "\n",
    "df_noshows = pd.DataFrame(data=df, columns=['Age','No-show'])\n",
    "\n",
    "graph = sns.boxplot(x=\"No-show\", y=\"Age\", data=df_noshows, palette=\"Set2\").set(title='Age Distributions for Kept Appointments and No-Shows',xlabel='No-Shows = Yes')\n",
    "\n",
    "# utilized this tutorial for boxplots in seaborn: https://seaborn.pydata.org/generated/seaborn.boxplot.html\n",
    "# used this for plot title adjustments: sns.boxplot('Day', 'Count', data=gg).set(title='lalala', xlabel='its x_label', ylabel='its y_label')\n",
    "\n",
    "sns.displot(df, x=\"Age\", hue=\"No-show\", kind=\"kde\", fill=True).set(title='Density of Age By Appointment Status');\n",
    "\n",
    "# tutorial for density plot: https://seaborn.pydata.org/tutorial/distributions.html"
   ]
  },
  {
   "cell_type": "markdown",
   "metadata": {},
   "source": [
    "**Research Question 3, Notes:**\n",
    "\n",
    "There is evidence that No-Show rates are higher among patients ages 0-18 (23%) and 19-37 (24%) than among patients who are older than 38. Additionally, No-Show rates are lowest among patients over the age of 56 (16%).\n",
    "\n",
    "The boxplot shows that the mean age of patients who kept their appointments is higher than the mean age of patients for no-show appointments; the density plot shows a similar picture where a greater proportion of No-shows were for appointments made by younger patients.\n",
    "\n",
    "This is not to say that age causes more no-shows, but that there may be some relationship between age and no-shows. For example, schedules may change or be less flexible for younger patients, or there may be more \"important\" appointments for older patients that are more costly (in terms of health) to miss. "
   ]
  },
  {
   "cell_type": "markdown",
   "metadata": {},
   "source": [
    "### <font color='orange'>Research Question 4: Do greater or fewer percentage patients with Hypertension and/or Diabetes show up compared to patients without these conditions? </font>\n",
    "\n",
    "Let's look at whether a greater proportion of appointments made by patients with Diabetes and/or Hypertension were kept compared to patients without either condition."
   ]
  },
  {
   "cell_type": "code",
   "execution_count": 25,
   "metadata": {},
   "outputs": [
    {
     "data": {
      "text/plain": [
       "Diabetes_Hypertension  No-show\n",
       "0                      No         0.790828\n",
       "                       Yes        0.209172\n",
       "1                      No         0.825393\n",
       "                       Yes        0.174607\n",
       "Name: AppointmentID, dtype: float64"
      ]
     },
     "execution_count": 25,
     "metadata": {},
     "output_type": "execute_result"
    }
   ],
   "source": [
    "diabetes_hypertension_counts = df.groupby(['Diabetes_Hypertension', 'No-show']).count()['AppointmentID']\n",
    "diabetes_hypertension_totals = df.groupby('Diabetes_Hypertension').count()['AppointmentID']\n",
    "diabetes_hypertension_proportions = (diabetes_hypertension_counts / diabetes_hypertension_totals)\n",
    "diabetes_hypertension_proportions"
   ]
  },
  {
   "cell_type": "markdown",
   "metadata": {},
   "source": [
    "**Research Question 4, Notes:**\n",
    "\n",
    "No-Show rates were slightly lower among appointments made by patients with Diabetes and/or Hypertension (17%) compared to patients with neither of these conditions (21%). This result will not be graphically displayed as it is one of the smaller findings."
   ]
  },
  {
   "cell_type": "markdown",
   "metadata": {},
   "source": [
    "### <font color='orange'> Research Question 5: Are a greater or fewer percentage of appointments made by patients enrolled in the Bolsa Familiar program No-Shows compared to appointments made by patients not enrolled in Bolsa Familia? </font>\n",
    "\n",
    "First, let's look at Bolsa Familia status independently of No-Shows. From the graph below, it's clear that the vast majority of appointments are made by patients who are not enrolled in the Bolsa Familia welfare program."
   ]
  },
  {
   "cell_type": "code",
   "execution_count": 26,
   "metadata": {},
   "outputs": [
    {
     "data": {
      "image/png": "[encoded data removed]",
      "text/plain": [
       "<Figure size 432x288 with 1 Axes>"
      ]
     },
     "metadata": {
      "needs_background": "light"
     },
     "output_type": "display_data"
    }
   ],
   "source": [
    "df['Scholarship'].value_counts().plot(kind='bar', title = \"Appointment Counts Bolsa Familia Status\", xlabel = \"Bolsa Familia Status (1= Yes)\", ylabel = \"Count\");"
   ]
  },
  {
   "cell_type": "markdown",
   "metadata": {},
   "source": [
    "Now, let's look at our last research question related to Bolsa Familia."
   ]
  },
  {
   "cell_type": "code",
   "execution_count": 27,
   "metadata": {},
   "outputs": [
    {
     "data": {
      "text/plain": [
       "Scholarship  No-show\n",
       "0            No         0.801967\n",
       "             Yes        0.198033\n",
       "1            No         0.762637\n",
       "             Yes        0.237363\n",
       "Name: AppointmentID, dtype: float64"
      ]
     },
     "execution_count": 27,
     "metadata": {},
     "output_type": "execute_result"
    }
   ],
   "source": [
    "BolsaFamilia_counts = df.groupby(['Scholarship', 'No-show']).count()['AppointmentID']\n",
    "BolsaFamilia_totals = df.groupby('Scholarship').count()['AppointmentID']\n",
    "BolsaFamilia_proportions = (BolsaFamilia_counts / BolsaFamilia_totals)\n",
    "BolsaFamilia_proportions"
   ]
  },
  {
   "cell_type": "markdown",
   "metadata": {},
   "source": [
    "**Research Question 5, Notes:**\n",
    "\n",
    "No-Show rates were slightly higher for appointments made by patients in the Bolsa Familia welfare program (24%) than those who were not enrolled in this program (20%). This result will not be graphically displayed as it is one of the smaller findings."
   ]
  },
  {
   "cell_type": "markdown",
   "metadata": {},
   "source": [
    "<a id='conclusions'></a>\n",
    "## Conclusions\n",
    "\n",
    "In this workbook, I have explored the relationship between No-Shows and 5 features:\n",
    "* Scheduling Delay Groups (time between Schedule Day and Appointment Day)\n",
    "* SMS Reminder Status\n",
    "* Age Groups\n",
    "* Diabetes / Hypertension Status\n",
    "* Bolsa Familia Scholarship Status\n",
    "\n",
    "The greatest differences in No-Show rates were across **Scheduling Delay Groups, SMS Reminder Status, and Age Groups.**\n",
    "* Specifically, only 5% of same-day appointments and 23% of appointments made 1-4 days prior were No-Shows, compared to patients hwho made appointments 5 or more days in advance (29% if 5-15 days in advance, and 33% if more than 16 days in advance). This could be due to the urgency of the appointments with shorter wait times, or ease of scheduling and remembering events in the near future. \n",
    "* Interestingly, appointments where SMS Reminders were not sent out had lower No-Show rates; this may be due to the type of patient who opts in to or can receive SMS Reminders. \n",
    "* Finally, appointments made by younger patients had higher rates of No-Shows; this may be due to the urgency of the appointment in terms of one's health or that scheduling presents more challenges for younger patients. \n",
    "\n",
    "### Limitations\n",
    "\n",
    "I explored the relationship between two features at a time and only in a descriptive manner. This means that I am only describing the data from a few angles and am not implying causality or statistically significant differences. The next steps would be to look at relationships across multiple features (perhaps using a logistic regression) and to test for statistical relevance of any findings. For example, we could explore how age combined with SMS reminders impacts the rate of No-Shows, and then test differences across groups to check for significance.\n",
    "\n",
    "Additionally, I looked at very few features just as a sample. There may be other features in this dataset that would be more informative than the ones I chose, and therefore my analysis represents only a sliver of the whole picture. \n",
    "\n",
    "Finally, I did remove a few rows of data due to impossible values (like negative age) or problematic values (appointment event before it was scheduled), and have reason to believe that the data I am seeing is only for appointments that contained all data (as there are no missing values for any rows). Additionally, this data represents a small portion of appointments for the year under review, and any trends or patterns related to no-shows may change throughout the year (seasonality) or across years."
   ]
  }
 ],
 "metadata": {
  "kernelspec": {
   "display_name": "Python 3",
   "language": "python",
   "name": "python3"
  },
  "language_info": {
   "codemirror_mode": {
    "name": "ipython",
    "version": 3
   },
   "file_extension": ".py",
   "mimetype": "text/x-python",
   "name": "python",
   "nbconvert_exporter": "python",
   "pygments_lexer": "ipython3",
   "version": "3.8.5"
  }
 },
 "nbformat": 4,
 "nbformat_minor": 2
}
